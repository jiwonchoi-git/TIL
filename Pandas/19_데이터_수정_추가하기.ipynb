{
 "cells": [
  {
   "cell_type": "markdown",
   "id": "7ae1cf2d-6e8e-445e-bd19-a16c383e5805",
   "metadata": {},
   "source": [
    "# 데이터 수정 및 추가하기\n",
    "- pandas를 사용하여 DataFrame의 값을 수정하거나 새로운 데이터를 추가하는 방법\n",
    "- 데이터를 수정하는 다양한 방법과 조건에 따라 **데이터를 필터링하여 수정하는 방법**까지 다뤄봅시다."
   ]
  },
  {
   "cell_type": "markdown",
   "id": "27c1abee-5c54-45c6-85a2-0ad52f01f6ca",
   "metadata": {},
   "source": [
    "## 1. 값 한 개 바꾸기\n",
    "- 특정 위치의 값을 바꾸기 위해 `loc[]`를 사용합니다.\n",
    "- 예를 들어, “Double Stacker King”의 “sodium” 값을 수정하려면 다음과 같이 합니다."
   ]
  },
  {
   "cell_type": "code",
   "execution_count": 11,
   "id": "ddf54f5c-8015-4dc8-97f5-3471a5d36be7",
   "metadata": {},
   "outputs": [
    {
     "data": {
      "text/html": [
       "<div>\n",
       "<style scoped>\n",
       "    .dataframe tbody tr th:only-of-type {\n",
       "        vertical-align: middle;\n",
       "    }\n",
       "\n",
       "    .dataframe tbody tr th {\n",
       "        vertical-align: top;\n",
       "    }\n",
       "\n",
       "    .dataframe thead th {\n",
       "        text-align: right;\n",
       "    }\n",
       "</style>\n",
       "<table border=\"1\" class=\"dataframe\">\n",
       "  <thead>\n",
       "    <tr style=\"text-align: right;\">\n",
       "      <th></th>\n",
       "      <th>calories</th>\n",
       "      <th>carb</th>\n",
       "      <th>protein</th>\n",
       "      <th>fat</th>\n",
       "      <th>sodium</th>\n",
       "      <th>category</th>\n",
       "    </tr>\n",
       "    <tr>\n",
       "      <th>product_name</th>\n",
       "      <th></th>\n",
       "      <th></th>\n",
       "      <th></th>\n",
       "      <th></th>\n",
       "      <th></th>\n",
       "      <th></th>\n",
       "    </tr>\n",
       "  </thead>\n",
       "  <tbody>\n",
       "    <tr>\n",
       "      <th>Whopper</th>\n",
       "      <td>660</td>\n",
       "      <td>49</td>\n",
       "      <td>28</td>\n",
       "      <td>40</td>\n",
       "      <td>1.0</td>\n",
       "      <td>Burgers</td>\n",
       "    </tr>\n",
       "    <tr>\n",
       "      <th>Cheese Whopper</th>\n",
       "      <td>740</td>\n",
       "      <td>50</td>\n",
       "      <td>32</td>\n",
       "      <td>46</td>\n",
       "      <td>1.3</td>\n",
       "      <td>Burgers</td>\n",
       "    </tr>\n",
       "    <tr>\n",
       "      <th>Double Whopper</th>\n",
       "      <td>900</td>\n",
       "      <td>49</td>\n",
       "      <td>48</td>\n",
       "      <td>58</td>\n",
       "      <td>1.0</td>\n",
       "      <td>Burgers</td>\n",
       "    </tr>\n",
       "  </tbody>\n",
       "</table>\n",
       "</div>"
      ],
      "text/plain": [
       "                calories  carb  protein  fat  sodium category\n",
       "product_name                                                 \n",
       "Whopper              660    49       28   40     1.0  Burgers\n",
       "Cheese Whopper       740    50       32   46     1.3  Burgers\n",
       "Double Whopper       900    49       48   58     1.0  Burgers"
      ]
     },
     "execution_count": 11,
     "metadata": {},
     "output_type": "execute_result"
    }
   ],
   "source": []
  },
  {
   "cell_type": "code",
   "execution_count": 14,
   "id": "549415a0-75bf-4713-82c5-7ecfee68f1fc",
   "metadata": {},
   "outputs": [
    {
     "data": {
      "text/plain": [
       "nan"
      ]
     },
     "execution_count": 14,
     "metadata": {},
     "output_type": "execute_result"
    }
   ],
   "source": []
  },
  {
   "cell_type": "code",
   "execution_count": 15,
   "id": "e66dc799-bec5-47d0-844f-aa075c74d815",
   "metadata": {},
   "outputs": [],
   "source": []
  },
  {
   "cell_type": "code",
   "execution_count": 16,
   "id": "e035f677-5686-498c-9975-79f968f2b656",
   "metadata": {},
   "outputs": [
    {
     "data": {
      "text/plain": [
       "1.9"
      ]
     },
     "execution_count": 16,
     "metadata": {},
     "output_type": "execute_result"
    }
   ],
   "source": []
  },
  {
   "cell_type": "markdown",
   "id": "9c9fce5d-46e7-4f20-9452-857d4931126e",
   "metadata": {},
   "source": [
    "## 2. 로우 한 줄 바꾸기\n",
    "- 특정 로우 전체를 수정하려면, 그 로우에 대한 값을 리스트로 입력합니다."
   ]
  },
  {
   "cell_type": "code",
   "execution_count": 17,
   "id": "ba12206d-1ebc-42a2-9add-14bfdd21044a",
   "metadata": {},
   "outputs": [
    {
     "data": {
      "text/plain": [
       "calories        280\n",
       "carb             27\n",
       "protein          15\n",
       "fat              13\n",
       "sodium          0.6\n",
       "category    Burgers\n",
       "Name: Cheeseburger, dtype: object"
      ]
     },
     "execution_count": 17,
     "metadata": {},
     "output_type": "execute_result"
    }
   ],
   "source": []
  },
  {
   "cell_type": "code",
   "execution_count": 18,
   "id": "a77484f0-53c4-4e19-8290-0b9d5fea3fc5",
   "metadata": {},
   "outputs": [],
   "source": [
    "# 열의 개수가 일치해야함\n"
   ]
  },
  {
   "cell_type": "code",
   "execution_count": 19,
   "id": "639cf229-1a6b-44ea-a8a7-6818b874510a",
   "metadata": {},
   "outputs": [
    {
     "data": {
      "text/plain": [
       "calories       360\n",
       "carb            24\n",
       "protein         18\n",
       "fat             21\n",
       "sodium         0.7\n",
       "category    Burger\n",
       "Name: Cheeseburger, dtype: object"
      ]
     },
     "execution_count": 19,
     "metadata": {},
     "output_type": "execute_result"
    }
   ],
   "source": [
    "# 이렇게 하면 ‘Cheeseburger’의 모든 값을 \n",
    "# 새롭게 설정할 수 있습니다.\n"
   ]
  },
  {
   "cell_type": "markdown",
   "id": "c3063a68-7cea-4075-aaaf-d4543aa761cb",
   "metadata": {},
   "source": [
    "## 3. 컬럼 한 줄 바꾸기\n",
    "- 컬럼 전체를 수정할 때도 마찬가지로, 리스트로 값을 넣어줄 수 있습니다.\n",
    "    - 슬라이싱 없는 대괄호는 컬럼"
   ]
  },
  {
   "cell_type": "code",
   "execution_count": 20,
   "id": "72857f82-8dcd-491b-b943-e381e13a1bc7",
   "metadata": {},
   "outputs": [
    {
     "data": {
      "text/plain": [
       "product_name\n",
       "Whopper                  1.0\n",
       "Cheese Whopper           1.3\n",
       "Double Whopper           1.0\n",
       "Double Cheese Whopper    1.4\n",
       "Whopper Junior           0.4\n",
       "Bacon King               2.2\n",
       "Single Stacker King      1.4\n",
       "Double Stacker King      1.9\n",
       "Hamburger                0.4\n",
       "Cheeseburger             0.7\n",
       "Double Hamburger         0.4\n",
       "Double Cheeseburger      0.6\n",
       "Crispy Chicken           1.1\n",
       "Chicken Nuggets          0.3\n",
       "Spicy Chicken Nuggets    0.6\n",
       "Name: sodium, dtype: float64"
      ]
     },
     "execution_count": 20,
     "metadata": {},
     "output_type": "execute_result"
    }
   ],
   "source": []
  },
  {
   "cell_type": "code",
   "execution_count": 21,
   "id": "30ed4c43-c28c-4f38-8d8f-ed245df3ad52",
   "metadata": {},
   "outputs": [],
   "source": []
  },
  {
   "cell_type": "code",
   "execution_count": 22,
   "id": "72d44e7b-5c36-4486-816e-7c3cd463be68",
   "metadata": {},
   "outputs": [
    {
     "data": {
      "text/plain": [
       "product_name\n",
       "Whopper                  1.8\n",
       "Cheese Whopper           1.6\n",
       "Double Whopper           1.3\n",
       "Double Cheese Whopper    2.2\n",
       "Whopper Junior           0.9\n",
       "Bacon King               2.4\n",
       "Single Stacker King      1.7\n",
       "Double Stacker King      2.2\n",
       "Hamburger                0.8\n",
       "Cheeseburger             1.1\n",
       "Double Hamburger         0.7\n",
       "Double Cheeseburger      1.2\n",
       "Crispy Chicken           1.5\n",
       "Chicken Nuggets          0.8\n",
       "Spicy Chicken Nuggets    1.3\n",
       "Name: sodium, dtype: float64"
      ]
     },
     "execution_count": 22,
     "metadata": {},
     "output_type": "execute_result"
    }
   ],
   "source": []
  },
  {
   "cell_type": "markdown",
   "id": "145c6348-1a18-4df8-80ce-5193f292a49b",
   "metadata": {},
   "source": [
    "- 컬럼의 모든 값을 동일하게 설정하려면, 리스트 대신 `단일 값을 사용해 한꺼번에` 변경할 수 있습니다."
   ]
  },
  {
   "cell_type": "code",
   "execution_count": 23,
   "id": "6d7cc34f-d088-416c-9e01-5f1805149454",
   "metadata": {},
   "outputs": [],
   "source": []
  },
  {
   "cell_type": "code",
   "execution_count": 24,
   "id": "6ec2362c-3db1-4959-a7bf-a6e177759c6b",
   "metadata": {},
   "outputs": [
    {
     "data": {
      "text/plain": [
       "product_name\n",
       "Whopper                  1\n",
       "Cheese Whopper           1\n",
       "Double Whopper           1\n",
       "Double Cheese Whopper    1\n",
       "Whopper Junior           1\n",
       "Bacon King               1\n",
       "Single Stacker King      1\n",
       "Double Stacker King      1\n",
       "Hamburger                1\n",
       "Cheeseburger             1\n",
       "Double Hamburger         1\n",
       "Double Cheeseburger      1\n",
       "Crispy Chicken           1\n",
       "Chicken Nuggets          1\n",
       "Spicy Chicken Nuggets    1\n",
       "Name: sodium, dtype: int64"
      ]
     },
     "execution_count": 24,
     "metadata": {},
     "output_type": "execute_result"
    }
   ],
   "source": []
  },
  {
   "cell_type": "markdown",
   "id": "5e834989-41c1-42bc-9911-47422e209d2a",
   "metadata": {},
   "source": [
    "## 4. 새로운 로우 추가하기\n",
    "- 새로운 로우를 추가하려면 기존의 방법과 동일하게 loc[]를 사용하되, 존재하지 않는 로우 이름을 지정하면 됩니다."
   ]
  },
  {
   "cell_type": "code",
   "execution_count": 26,
   "id": "e567777a-2d43-4ff2-b1fc-b9de1c3f8d67",
   "metadata": {},
   "outputs": [
    {
     "data": {
      "text/plain": [
       "False"
      ]
     },
     "execution_count": 26,
     "metadata": {},
     "output_type": "execute_result"
    }
   ],
   "source": [
    "# 로우에 있는지 확인\n"
   ]
  },
  {
   "cell_type": "code",
   "execution_count": 27,
   "id": "4ede628d-5365-40ff-b08c-b1160046dfce",
   "metadata": {},
   "outputs": [],
   "source": []
  },
  {
   "cell_type": "code",
   "execution_count": 30,
   "id": "c29021de-8386-4cdc-b584-d0e56ddacced",
   "metadata": {},
   "outputs": [
    {
     "data": {
      "text/plain": [
       "calories       1130\n",
       "carb             49\n",
       "protein          67\n",
       "fat              75\n",
       "sodium          1.1\n",
       "category    Burgers\n",
       "Name: Triple Whopper, dtype: object"
      ]
     },
     "execution_count": 30,
     "metadata": {},
     "output_type": "execute_result"
    }
   ],
   "source": [
    "# 이렇게 하면 새로운 메뉴인 \n",
    "# ‘Triple Whopper’ 로우가 추가됩니다.\n"
   ]
  },
  {
   "cell_type": "code",
   "execution_count": 29,
   "id": "64d0dc3b-d33c-48ba-8bec-3d64792381d0",
   "metadata": {},
   "outputs": [
    {
     "data": {
      "text/plain": [
       "True"
      ]
     },
     "execution_count": 29,
     "metadata": {},
     "output_type": "execute_result"
    }
   ],
   "source": []
  },
  {
   "cell_type": "markdown",
   "id": "ad28c5cc-45ba-4d46-965b-b8cb66ddf766",
   "metadata": {},
   "source": [
    "## 5. 새로운 컬럼 추가하기\n",
    "- 새로운 컬럼을 추가하려면, 기존에 없던 컬럼 이름을 사용하여 데이터를 추가하면 됩니다."
   ]
  },
  {
   "cell_type": "code",
   "execution_count": 31,
   "id": "9efe5954-a518-49bd-8d5e-365a72db447e",
   "metadata": {},
   "outputs": [
    {
     "data": {
      "text/plain": [
       "False"
      ]
     },
     "execution_count": 31,
     "metadata": {},
     "output_type": "execute_result"
    }
   ],
   "source": [
    "# 컬럼에 있는지 확인\n"
   ]
  },
  {
   "cell_type": "code",
   "execution_count": 32,
   "id": "53c766b2-0b3b-42c0-90ff-ba43503b0836",
   "metadata": {},
   "outputs": [],
   "source": []
  },
  {
   "cell_type": "code",
   "execution_count": 33,
   "id": "7daca0cf-d572-4242-a435-b3ab51d4d72f",
   "metadata": {},
   "outputs": [
    {
     "data": {
      "text/plain": [
       "product_name\n",
       "Whopper                  Burger King\n",
       "Cheese Whopper           Burger King\n",
       "Double Whopper           Burger King\n",
       "Double Cheese Whopper    Burger King\n",
       "Whopper Junior           Burger King\n",
       "Bacon King               Burger King\n",
       "Single Stacker King      Burger King\n",
       "Double Stacker King      Burger King\n",
       "Hamburger                Burger King\n",
       "Cheeseburger             Burger King\n",
       "Double Hamburger         Burger King\n",
       "Double Cheeseburger      Burger King\n",
       "Crispy Chicken           Burger King\n",
       "Chicken Nuggets          Burger King\n",
       "Spicy Chicken Nuggets    Burger King\n",
       "Triple Whopper           Burger King\n",
       "Name: brand, dtype: object"
      ]
     },
     "execution_count": 33,
     "metadata": {},
     "output_type": "execute_result"
    }
   ],
   "source": [
    "# 이 경우, ‘brand’라는 새로운 컬럼이 생성되고, \n",
    "# 모든 값이 ‘Burger King’으로 설정됩니다.\n"
   ]
  },
  {
   "cell_type": "code",
   "execution_count": 34,
   "id": "49c16994-573b-4e5a-a345-be9d4025c196",
   "metadata": {},
   "outputs": [
    {
     "data": {
      "text/plain": [
       "True"
      ]
     },
     "execution_count": 34,
     "metadata": {},
     "output_type": "execute_result"
    }
   ],
   "source": []
  },
  {
   "cell_type": "markdown",
   "id": "a235d294-d74c-44e6-9723-fea3c1c5181e",
   "metadata": {},
   "source": [
    "## 6. 조건에 따른 값 수정 (불린 인덱싱 활용)\n",
    "- 특정 조건에 맞는 데이터를 필터링한 후, 그 값들을 수정할 수 있습니다.\n",
    "- 예를 들어, 칼로리가 500 이상인 메뉴에 ‘high_calorie’ 컬럼을 추가하고 True 값을 설정합니다."
   ]
  },
  {
   "cell_type": "code",
   "execution_count": 36,
   "id": "93d7d946-8949-4e51-818f-2b7c3cd6bb33",
   "metadata": {},
   "outputs": [],
   "source": [
    "# 보통 단일 불린 값으로 많이 바꾸겠지\n"
   ]
  },
  {
   "cell_type": "code",
   "execution_count": 37,
   "id": "93f37979-04df-40e3-a4b9-4aac145e25b2",
   "metadata": {},
   "outputs": [
    {
     "data": {
      "text/plain": [
       "product_name\n",
       "Whopper                  True\n",
       "Cheese Whopper           True\n",
       "Double Whopper           True\n",
       "Double Cheese Whopper    True\n",
       "Bacon King               True\n",
       "Single Stacker King      True\n",
       "Double Stacker King      True\n",
       "Crispy Chicken           True\n",
       "Triple Whopper           True\n",
       "Name: high_calorie, dtype: object"
      ]
     },
     "execution_count": 37,
     "metadata": {},
     "output_type": "execute_result"
    }
   ],
   "source": []
  },
  {
   "cell_type": "markdown",
   "id": "0baf4e28-96a4-49d5-99b5-0aeddc294b56",
   "metadata": {},
   "source": [
    "- 이후, 500 미만의 메뉴에 False 값을 설정할 수 있습니다."
   ]
  },
  {
   "cell_type": "code",
   "execution_count": 42,
   "id": "991f5169-b2c5-4b1f-96d0-eee33d5bc1bc",
   "metadata": {},
   "outputs": [],
   "source": []
  },
  {
   "cell_type": "code",
   "execution_count": 44,
   "id": "9ef85269-3185-436a-8c6e-aa48e9ea4391",
   "metadata": {},
   "outputs": [
    {
     "data": {
      "text/plain": [
       "product_name\n",
       "Whopper Junior           False\n",
       "Hamburger                False\n",
       "Cheeseburger             False\n",
       "Double Hamburger         False\n",
       "Double Cheeseburger      False\n",
       "Chicken Nuggets          False\n",
       "Spicy Chicken Nuggets    False\n",
       "Name: high_calorie, dtype: object"
      ]
     },
     "execution_count": 44,
     "metadata": {},
     "output_type": "execute_result"
    }
   ],
   "source": []
  },
  {
   "cell_type": "markdown",
   "id": "89998f40-a0f1-4ad1-b92b-16116a1ec838",
   "metadata": {},
   "source": [
    "## 7. 정리\n",
    "1. `특정 값` 이나 `로우 또는 컬럼 전체`를 수정할 수 있으며, `단일 값이나 리스트를 사용`하여 간편하게 수정 가능.\n",
    "2. 로우나 컬럼을 `추가하는 방법도 동일`하며, 기존에 없는 이름을 사용하면 자동으로 추가됨.\n",
    "3. 조건에 따른 값 수정은 `불린 인덱싱을 통해 특정 조건에 맞는 값을 필터링`한 후 값을 변경할 수 있음.\n"
   ]
  }
 ],
 "metadata": {
  "kernelspec": {
   "display_name": "Python 3 (ipykernel)",
   "language": "python",
   "name": "python3"
  },
  "language_info": {
   "codemirror_mode": {
    "name": "ipython",
    "version": 3
   },
   "file_extension": ".py",
   "mimetype": "text/x-python",
   "name": "python",
   "nbconvert_exporter": "python",
   "pygments_lexer": "ipython3",
   "version": "3.9.13"
  }
 },
 "nbformat": 4,
 "nbformat_minor": 5
}
