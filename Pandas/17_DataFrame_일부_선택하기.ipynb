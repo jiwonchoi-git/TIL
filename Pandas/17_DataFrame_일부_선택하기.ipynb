{
 "cells": [
  {
   "cell_type": "markdown",
   "id": "8dec2208-2a88-4645-90d3-778471fb2827",
   "metadata": {},
   "source": [
    "# DataFrame에서 일부만 선택하기\n",
    "- pandas에서 DataFrame의 특정 부분을 선택하는 다양한 방법\n",
    "    1. `iloc` : 정수 인덱스\n",
    "    2. `loc` : 이름\n",
    "    3. `대괄호([])` : 심플"
   ]
  },
  {
   "cell_type": "markdown",
   "id": "d36b48a1-8b4e-418a-b309-fbdff90f7405",
   "metadata": {},
   "source": [
    "## 1. iloc[]: 정수 인덱스를 이용한 선택\n",
    "- **iloc[]**\n",
    "    - `정수 인덱스를 사용`해 데이터를 선택합니다.\n",
    "    - 파이썬의 리스트나 numpy array에서의 인덱싱과 유사합니다."
   ]
  },
  {
   "cell_type": "code",
   "execution_count": 1,
   "id": "6ae06f39-01f1-437f-ad21-16b52337f941",
   "metadata": {},
   "outputs": [
    {
     "data": {
      "text/html": [
       "<div>\n",
       "<style scoped>\n",
       "    .dataframe tbody tr th:only-of-type {\n",
       "        vertical-align: middle;\n",
       "    }\n",
       "\n",
       "    .dataframe tbody tr th {\n",
       "        vertical-align: top;\n",
       "    }\n",
       "\n",
       "    .dataframe thead th {\n",
       "        text-align: right;\n",
       "    }\n",
       "</style>\n",
       "<table border=\"1\" class=\"dataframe\">\n",
       "  <thead>\n",
       "    <tr style=\"text-align: right;\">\n",
       "      <th></th>\n",
       "      <th>product_name</th>\n",
       "      <th>calories</th>\n",
       "      <th>carb</th>\n",
       "      <th>protein</th>\n",
       "      <th>fat</th>\n",
       "      <th>sodium</th>\n",
       "      <th>category</th>\n",
       "    </tr>\n",
       "  </thead>\n",
       "  <tbody>\n",
       "    <tr>\n",
       "      <th>0</th>\n",
       "      <td>Whopper</td>\n",
       "      <td>660</td>\n",
       "      <td>49</td>\n",
       "      <td>28</td>\n",
       "      <td>40</td>\n",
       "      <td>1.0</td>\n",
       "      <td>Burgers</td>\n",
       "    </tr>\n",
       "    <tr>\n",
       "      <th>1</th>\n",
       "      <td>Cheese Whopper</td>\n",
       "      <td>740</td>\n",
       "      <td>50</td>\n",
       "      <td>32</td>\n",
       "      <td>46</td>\n",
       "      <td>1.3</td>\n",
       "      <td>Burgers</td>\n",
       "    </tr>\n",
       "    <tr>\n",
       "      <th>2</th>\n",
       "      <td>Double Whopper</td>\n",
       "      <td>900</td>\n",
       "      <td>49</td>\n",
       "      <td>48</td>\n",
       "      <td>58</td>\n",
       "      <td>1.0</td>\n",
       "      <td>Burgers</td>\n",
       "    </tr>\n",
       "  </tbody>\n",
       "</table>\n",
       "</div>"
      ],
      "text/plain": [
       "     product_name  calories  carb  protein  fat  sodium category\n",
       "0         Whopper       660    49       28   40     1.0  Burgers\n",
       "1  Cheese Whopper       740    50       32   46     1.3  Burgers\n",
       "2  Double Whopper       900    49       48   58     1.0  Burgers"
      ]
     },
     "execution_count": 1,
     "metadata": {},
     "output_type": "execute_result"
    }
   ],
   "source": [
    "import pandas as pd\n",
    "burger_df = pd.read_csv('../data/burger.csv')\n",
    "burger_df.head(3)"
   ]
  },
  {
   "cell_type": "code",
   "execution_count": 2,
   "id": "90d5ada7-3bb9-4df2-8441-84c6e5929905",
   "metadata": {},
   "outputs": [
    {
     "data": {
      "text/plain": [
       "np.int64(900)"
      ]
     },
     "execution_count": 2,
     "metadata": {},
     "output_type": "execute_result"
    }
   ],
   "source": [
    " # 3번째 로우, 2번째 컬럼 선택\n",
    "burger_df.iloc[2, 1]"
   ]
  },
  {
   "cell_type": "markdown",
   "id": "ad92722f-30a1-4a1b-8425-218ca9525b2d",
   "metadata": {},
   "source": [
    "- 여러 로우/컬럼 선택"
   ]
  },
  {
   "cell_type": "code",
   "execution_count": 3,
   "id": "239d1a26-498b-4387-b12a-c4b0034743c4",
   "metadata": {},
   "outputs": [
    {
     "data": {
      "text/html": [
       "<div>\n",
       "<style scoped>\n",
       "    .dataframe tbody tr th:only-of-type {\n",
       "        vertical-align: middle;\n",
       "    }\n",
       "\n",
       "    .dataframe tbody tr th {\n",
       "        vertical-align: top;\n",
       "    }\n",
       "\n",
       "    .dataframe thead th {\n",
       "        text-align: right;\n",
       "    }\n",
       "</style>\n",
       "<table border=\"1\" class=\"dataframe\">\n",
       "  <thead>\n",
       "    <tr style=\"text-align: right;\">\n",
       "      <th></th>\n",
       "      <th>fat</th>\n",
       "      <th>calories</th>\n",
       "    </tr>\n",
       "  </thead>\n",
       "  <tbody>\n",
       "    <tr>\n",
       "      <th>1</th>\n",
       "      <td>46</td>\n",
       "      <td>740</td>\n",
       "    </tr>\n",
       "    <tr>\n",
       "      <th>2</th>\n",
       "      <td>58</td>\n",
       "      <td>900</td>\n",
       "    </tr>\n",
       "  </tbody>\n",
       "</table>\n",
       "</div>"
      ],
      "text/plain": [
       "   fat  calories\n",
       "1   46       740\n",
       "2   58       900"
      ]
     },
     "execution_count": 3,
     "metadata": {},
     "output_type": "execute_result"
    }
   ],
   "source": [
    "# 2번째, 3번째 로우 - 5번째, 2번째 컬럼 선택\n",
    "burger_df.iloc[[1, 2], [4, 1]] "
   ]
  },
  {
   "cell_type": "markdown",
   "id": "46f0586f-c27b-496c-be9e-d0d733b611f9",
   "metadata": {},
   "source": [
    "- 슬라이싱(범위)\n",
    "    - iloc의 슬라이싱에는 마지막 값이 포함되지 않는다. 기존의 여타 인덱싱 슬라이싱과 같이!"
   ]
  },
  {
   "cell_type": "code",
   "execution_count": 4,
   "id": "aa7cd8eb-4dcb-4b3d-8c00-fd082bda6353",
   "metadata": {},
   "outputs": [
    {
     "data": {
      "text/html": [
       "<div>\n",
       "<style scoped>\n",
       "    .dataframe tbody tr th:only-of-type {\n",
       "        vertical-align: middle;\n",
       "    }\n",
       "\n",
       "    .dataframe tbody tr th {\n",
       "        vertical-align: top;\n",
       "    }\n",
       "\n",
       "    .dataframe thead th {\n",
       "        text-align: right;\n",
       "    }\n",
       "</style>\n",
       "<table border=\"1\" class=\"dataframe\">\n",
       "  <thead>\n",
       "    <tr style=\"text-align: right;\">\n",
       "      <th></th>\n",
       "      <th>carb</th>\n",
       "      <th>protein</th>\n",
       "      <th>fat</th>\n",
       "    </tr>\n",
       "  </thead>\n",
       "  <tbody>\n",
       "    <tr>\n",
       "      <th>1</th>\n",
       "      <td>50</td>\n",
       "      <td>32</td>\n",
       "      <td>46</td>\n",
       "    </tr>\n",
       "    <tr>\n",
       "      <th>2</th>\n",
       "      <td>49</td>\n",
       "      <td>48</td>\n",
       "      <td>58</td>\n",
       "    </tr>\n",
       "    <tr>\n",
       "      <th>3</th>\n",
       "      <td>50</td>\n",
       "      <td>52</td>\n",
       "      <td>64</td>\n",
       "    </tr>\n",
       "  </tbody>\n",
       "</table>\n",
       "</div>"
      ],
      "text/plain": [
       "   carb  protein  fat\n",
       "1    50       32   46\n",
       "2    49       48   58\n",
       "3    50       52   64"
      ]
     },
     "execution_count": 4,
     "metadata": {},
     "output_type": "execute_result"
    }
   ],
   "source": [
    " # 2~4번째 로우 범위, 2~4번째 컬럼 범위 선택\n",
    "burger_df.iloc[1:4, 2:5]"
   ]
  },
  {
   "cell_type": "markdown",
   "id": "f683cdc2-1afd-493d-82c2-e9a02e700ed2",
   "metadata": {},
   "source": [
    "## 2. loc[]: 이름을 이용한 선택 -> 가장 많이 사용됨\n",
    "- **loc[]**\n",
    "    - 이름(로우/컬럼 이름)을 이용해 데이터를 선택합니다. **더 직관적**으로 데이터에 접근할 수 있습니다."
   ]
  },
  {
   "cell_type": "code",
   "execution_count": 5,
   "id": "ebb28b10-ebdc-4ab6-8d8e-c4399037d220",
   "metadata": {},
   "outputs": [
    {
     "data": {
      "text/html": [
       "<div>\n",
       "<style scoped>\n",
       "    .dataframe tbody tr th:only-of-type {\n",
       "        vertical-align: middle;\n",
       "    }\n",
       "\n",
       "    .dataframe tbody tr th {\n",
       "        vertical-align: top;\n",
       "    }\n",
       "\n",
       "    .dataframe thead th {\n",
       "        text-align: right;\n",
       "    }\n",
       "</style>\n",
       "<table border=\"1\" class=\"dataframe\">\n",
       "  <thead>\n",
       "    <tr style=\"text-align: right;\">\n",
       "      <th></th>\n",
       "      <th>calories</th>\n",
       "      <th>carb</th>\n",
       "      <th>protein</th>\n",
       "      <th>fat</th>\n",
       "      <th>sodium</th>\n",
       "      <th>category</th>\n",
       "    </tr>\n",
       "    <tr>\n",
       "      <th>product_name</th>\n",
       "      <th></th>\n",
       "      <th></th>\n",
       "      <th></th>\n",
       "      <th></th>\n",
       "      <th></th>\n",
       "      <th></th>\n",
       "    </tr>\n",
       "  </thead>\n",
       "  <tbody>\n",
       "    <tr>\n",
       "      <th>Whopper</th>\n",
       "      <td>660</td>\n",
       "      <td>49</td>\n",
       "      <td>28</td>\n",
       "      <td>40</td>\n",
       "      <td>1.0</td>\n",
       "      <td>Burgers</td>\n",
       "    </tr>\n",
       "    <tr>\n",
       "      <th>Cheese Whopper</th>\n",
       "      <td>740</td>\n",
       "      <td>50</td>\n",
       "      <td>32</td>\n",
       "      <td>46</td>\n",
       "      <td>1.3</td>\n",
       "      <td>Burgers</td>\n",
       "    </tr>\n",
       "    <tr>\n",
       "      <th>Double Whopper</th>\n",
       "      <td>900</td>\n",
       "      <td>49</td>\n",
       "      <td>48</td>\n",
       "      <td>58</td>\n",
       "      <td>1.0</td>\n",
       "      <td>Burgers</td>\n",
       "    </tr>\n",
       "  </tbody>\n",
       "</table>\n",
       "</div>"
      ],
      "text/plain": [
       "                calories  carb  protein  fat  sodium category\n",
       "product_name                                                 \n",
       "Whopper              660    49       28   40     1.0  Burgers\n",
       "Cheese Whopper       740    50       32   46     1.3  Burgers\n",
       "Double Whopper       900    49       48   58     1.0  Burgers"
      ]
     },
     "execution_count": 5,
     "metadata": {},
     "output_type": "execute_result"
    }
   ],
   "source": [
    "import pandas as pd\n",
    "burger_df = pd.read_csv('../data/burger.csv', index_col='product_name')\n",
    "burger_df.head(3)"
   ]
  },
  {
   "cell_type": "code",
   "execution_count": 6,
   "id": "7270a35c-2936-482d-b12e-8e0e2fb0e385",
   "metadata": {},
   "outputs": [
    {
     "data": {
      "text/plain": [
       "np.int64(48)"
      ]
     },
     "execution_count": 6,
     "metadata": {},
     "output_type": "execute_result"
    }
   ],
   "source": [
    "  # \"Double Whopper\"의 \"protein\" 값을 선택\n",
    "burger_df.loc['Double Whopper', 'protein']"
   ]
  },
  {
   "cell_type": "markdown",
   "id": "7b420de7-bb56-4134-aee6-d663a996e001",
   "metadata": {},
   "source": [
    "- 여러 로우/컬럼 선택"
   ]
  },
  {
   "cell_type": "code",
   "execution_count": 13,
   "id": "ee99a626-2bff-4ec9-9ad7-e16dc0490701",
   "metadata": {},
   "outputs": [
    {
     "data": {
      "text/html": [
       "<div>\n",
       "<style scoped>\n",
       "    .dataframe tbody tr th:only-of-type {\n",
       "        vertical-align: middle;\n",
       "    }\n",
       "\n",
       "    .dataframe tbody tr th {\n",
       "        vertical-align: top;\n",
       "    }\n",
       "\n",
       "    .dataframe thead th {\n",
       "        text-align: right;\n",
       "    }\n",
       "</style>\n",
       "<table border=\"1\" class=\"dataframe\">\n",
       "  <thead>\n",
       "    <tr style=\"text-align: right;\">\n",
       "      <th></th>\n",
       "      <th>carb</th>\n",
       "      <th>protein</th>\n",
       "      <th>fat</th>\n",
       "    </tr>\n",
       "    <tr>\n",
       "      <th>product_name</th>\n",
       "      <th></th>\n",
       "      <th></th>\n",
       "      <th></th>\n",
       "    </tr>\n",
       "  </thead>\n",
       "  <tbody>\n",
       "    <tr>\n",
       "      <th>Whopper</th>\n",
       "      <td>49</td>\n",
       "      <td>28</td>\n",
       "      <td>40</td>\n",
       "    </tr>\n",
       "    <tr>\n",
       "      <th>Double Whopper</th>\n",
       "      <td>49</td>\n",
       "      <td>48</td>\n",
       "      <td>58</td>\n",
       "    </tr>\n",
       "  </tbody>\n",
       "</table>\n",
       "</div>"
      ],
      "text/plain": [
       "                carb  protein  fat\n",
       "product_name                      \n",
       "Whopper           49       28   40\n",
       "Double Whopper    49       48   58"
      ]
     },
     "execution_count": 13,
     "metadata": {},
     "output_type": "execute_result"
    }
   ],
   "source": [
    "burger_df.loc[['Whopper', 'Double Whopper'], ['carb', 'protein', 'fat']]"
   ]
  },
  {
   "cell_type": "markdown",
   "id": "69a7f16d-80ba-4c35-b437-cd3f770e232f",
   "metadata": {},
   "source": [
    "- **loc의 슬라이싱**\n",
    "    - `loc[]의 슬라이싱`에서는 `마지막 값도 포함`됩니다. (ex. ‘Double Whopper’부터 ‘Bacon King’까지 선택)\n",
    "    \n",
    "    - 외울 필요 X, 하다가 모자라면 추가해주면 될 뿐!"
   ]
  },
  {
   "cell_type": "code",
   "execution_count": 7,
   "id": "cc3b7c5e-2ba9-465d-a625-7846de9be66e",
   "metadata": {},
   "outputs": [
    {
     "data": {
      "text/html": [
       "<div>\n",
       "<style scoped>\n",
       "    .dataframe tbody tr th:only-of-type {\n",
       "        vertical-align: middle;\n",
       "    }\n",
       "\n",
       "    .dataframe tbody tr th {\n",
       "        vertical-align: top;\n",
       "    }\n",
       "\n",
       "    .dataframe thead th {\n",
       "        text-align: right;\n",
       "    }\n",
       "</style>\n",
       "<table border=\"1\" class=\"dataframe\">\n",
       "  <thead>\n",
       "    <tr style=\"text-align: right;\">\n",
       "      <th></th>\n",
       "      <th>calories</th>\n",
       "      <th>carb</th>\n",
       "      <th>protein</th>\n",
       "      <th>fat</th>\n",
       "    </tr>\n",
       "    <tr>\n",
       "      <th>product_name</th>\n",
       "      <th></th>\n",
       "      <th></th>\n",
       "      <th></th>\n",
       "      <th></th>\n",
       "    </tr>\n",
       "  </thead>\n",
       "  <tbody>\n",
       "    <tr>\n",
       "      <th>Double Whopper</th>\n",
       "      <td>900</td>\n",
       "      <td>49</td>\n",
       "      <td>48</td>\n",
       "      <td>58</td>\n",
       "    </tr>\n",
       "    <tr>\n",
       "      <th>Double Cheese Whopper</th>\n",
       "      <td>980</td>\n",
       "      <td>50</td>\n",
       "      <td>52</td>\n",
       "      <td>64</td>\n",
       "    </tr>\n",
       "    <tr>\n",
       "      <th>Whopper Junior</th>\n",
       "      <td>310</td>\n",
       "      <td>27</td>\n",
       "      <td>13</td>\n",
       "      <td>18</td>\n",
       "    </tr>\n",
       "    <tr>\n",
       "      <th>Bacon King</th>\n",
       "      <td>1150</td>\n",
       "      <td>49</td>\n",
       "      <td>61</td>\n",
       "      <td>79</td>\n",
       "    </tr>\n",
       "  </tbody>\n",
       "</table>\n",
       "</div>"
      ],
      "text/plain": [
       "                       calories  carb  protein  fat\n",
       "product_name                                       \n",
       "Double Whopper              900    49       48   58\n",
       "Double Cheese Whopper       980    50       52   64\n",
       "Whopper Junior              310    27       13   18\n",
       "Bacon King                 1150    49       61   79"
      ]
     },
     "execution_count": 7,
     "metadata": {},
     "output_type": "execute_result"
    }
   ],
   "source": [
    "burger_df.loc['Double Whopper':'Bacon King', 'calories':'fat']"
   ]
  },
  {
   "cell_type": "markdown",
   "id": "14461053-0c01-4c0a-8ba0-1b8d95405fc6",
   "metadata": {},
   "source": [
    "## 3. 바로 대괄호([]) 사용하기\n",
    "- loc나 iloc 없이 대괄호만 사용해 `특정 지정시, 컬럼을 선택`할 수 있습니다."
   ]
  },
  {
   "cell_type": "markdown",
   "id": "27f55b7f",
   "metadata": {},
   "source": [
    "- 슬라이싱 아닌 대괄호 : 컬럼 지정"
   ]
  },
  {
   "cell_type": "code",
   "execution_count": 10,
   "id": "1c6785d8-b509-420c-a246-a8ab5014acb4",
   "metadata": {},
   "outputs": [
    {
     "data": {
      "text/html": [
       "<div>\n",
       "<style scoped>\n",
       "    .dataframe tbody tr th:only-of-type {\n",
       "        vertical-align: middle;\n",
       "    }\n",
       "\n",
       "    .dataframe tbody tr th {\n",
       "        vertical-align: top;\n",
       "    }\n",
       "\n",
       "    .dataframe thead th {\n",
       "        text-align: right;\n",
       "    }\n",
       "</style>\n",
       "<table border=\"1\" class=\"dataframe\">\n",
       "  <thead>\n",
       "    <tr style=\"text-align: right;\">\n",
       "      <th></th>\n",
       "      <th>calories</th>\n",
       "      <th>fat</th>\n",
       "    </tr>\n",
       "    <tr>\n",
       "      <th>product_name</th>\n",
       "      <th></th>\n",
       "      <th></th>\n",
       "    </tr>\n",
       "  </thead>\n",
       "  <tbody>\n",
       "    <tr>\n",
       "      <th>Whopper</th>\n",
       "      <td>660</td>\n",
       "      <td>40</td>\n",
       "    </tr>\n",
       "    <tr>\n",
       "      <th>Cheese Whopper</th>\n",
       "      <td>740</td>\n",
       "      <td>46</td>\n",
       "    </tr>\n",
       "    <tr>\n",
       "      <th>Double Whopper</th>\n",
       "      <td>900</td>\n",
       "      <td>58</td>\n",
       "    </tr>\n",
       "  </tbody>\n",
       "</table>\n",
       "</div>"
      ],
      "text/plain": [
       "                calories  fat\n",
       "product_name                 \n",
       "Whopper              660   40\n",
       "Cheese Whopper       740   46\n",
       "Double Whopper       900   58"
      ]
     },
     "execution_count": 10,
     "metadata": {},
     "output_type": "execute_result"
    }
   ],
   "source": [
    "  # \"calories\" 컬럼 선택\n",
    "burger_df['calories']\n",
    "  # 여러 컬럼 선택\n",
    "burger_df[['calories','fat']].head(3)"
   ]
  },
  {
   "cell_type": "markdown",
   "id": "0ef793d1-602a-4fbc-86e9-7c21e569844a",
   "metadata": {},
   "source": [
    "- 슬라이싱 대괄호 : 로우\n",
    "    - 대괄호 슬라이싱은 `로우`에 대해서만 가능합니다."
   ]
  },
  {
   "cell_type": "code",
   "execution_count": 11,
   "id": "81a9aa91-3723-419d-8fa7-425c0f6c8ef9",
   "metadata": {},
   "outputs": [
    {
     "data": {
      "text/html": [
       "<div>\n",
       "<style scoped>\n",
       "    .dataframe tbody tr th:only-of-type {\n",
       "        vertical-align: middle;\n",
       "    }\n",
       "\n",
       "    .dataframe tbody tr th {\n",
       "        vertical-align: top;\n",
       "    }\n",
       "\n",
       "    .dataframe thead th {\n",
       "        text-align: right;\n",
       "    }\n",
       "</style>\n",
       "<table border=\"1\" class=\"dataframe\">\n",
       "  <thead>\n",
       "    <tr style=\"text-align: right;\">\n",
       "      <th></th>\n",
       "      <th>calories</th>\n",
       "      <th>carb</th>\n",
       "      <th>protein</th>\n",
       "      <th>fat</th>\n",
       "      <th>sodium</th>\n",
       "      <th>category</th>\n",
       "    </tr>\n",
       "    <tr>\n",
       "      <th>product_name</th>\n",
       "      <th></th>\n",
       "      <th></th>\n",
       "      <th></th>\n",
       "      <th></th>\n",
       "      <th></th>\n",
       "      <th></th>\n",
       "    </tr>\n",
       "  </thead>\n",
       "  <tbody>\n",
       "    <tr>\n",
       "      <th>Double Whopper</th>\n",
       "      <td>900</td>\n",
       "      <td>49</td>\n",
       "      <td>48</td>\n",
       "      <td>58</td>\n",
       "      <td>1.0</td>\n",
       "      <td>Burgers</td>\n",
       "    </tr>\n",
       "    <tr>\n",
       "      <th>Double Cheese Whopper</th>\n",
       "      <td>980</td>\n",
       "      <td>50</td>\n",
       "      <td>52</td>\n",
       "      <td>64</td>\n",
       "      <td>1.4</td>\n",
       "      <td>Burgers</td>\n",
       "    </tr>\n",
       "    <tr>\n",
       "      <th>Whopper Junior</th>\n",
       "      <td>310</td>\n",
       "      <td>27</td>\n",
       "      <td>13</td>\n",
       "      <td>18</td>\n",
       "      <td>0.4</td>\n",
       "      <td>Burgers</td>\n",
       "    </tr>\n",
       "    <tr>\n",
       "      <th>Bacon King</th>\n",
       "      <td>1150</td>\n",
       "      <td>49</td>\n",
       "      <td>61</td>\n",
       "      <td>79</td>\n",
       "      <td>2.2</td>\n",
       "      <td>Burgers</td>\n",
       "    </tr>\n",
       "  </tbody>\n",
       "</table>\n",
       "</div>"
      ],
      "text/plain": [
       "                       calories  carb  protein  fat  sodium category\n",
       "product_name                                                        \n",
       "Double Whopper              900    49       48   58     1.0  Burgers\n",
       "Double Cheese Whopper       980    50       52   64     1.4  Burgers\n",
       "Whopper Junior              310    27       13   18     0.4  Burgers\n",
       "Bacon King                 1150    49       61   79     2.2  Burgers"
      ]
     },
     "execution_count": 11,
     "metadata": {},
     "output_type": "execute_result"
    }
   ],
   "source": [
    "# \"Double Whopper\"부터 \"Bacon King\"까지의 로우 선택\n",
    "burger_df['Double Whopper':'Bacon King']"
   ]
  },
  {
   "cell_type": "markdown",
   "id": "9b6f590f-f708-45bc-81ce-739cdc8ed0c7",
   "metadata": {},
   "source": [
    "## 4. 요약\n",
    "1. iloc[]\n",
    "    - 정수 인덱스로 데이터 선택 (0부터 시작).\n",
    "2. loc[]\n",
    "    - **이름(라벨)** 으로 데이터 선택. 더 직관적이며 마지막 값을 포함한 슬라이싱 가능.\n",
    "3. 대괄호 사용\n",
    "    - 컬럼 선택 시 간단한 방법이지만 슬라이싱은 로우에만 가능."
   ]
  }
 ],
 "metadata": {
  "kernelspec": {
   "display_name": "Python 3",
   "language": "python",
   "name": "python3"
  },
  "language_info": {
   "codemirror_mode": {
    "name": "ipython",
    "version": 3
   },
   "file_extension": ".py",
   "mimetype": "text/x-python",
   "name": "python",
   "nbconvert_exporter": "python",
   "pygments_lexer": "ipython3",
   "version": "3.9.6"
  }
 },
 "nbformat": 4,
 "nbformat_minor": 5
}
