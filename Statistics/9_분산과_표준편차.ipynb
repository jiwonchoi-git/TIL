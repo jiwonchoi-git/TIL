{
 "cells": [
  {
   "cell_type": "markdown",
   "id": "900b9ae6-08d9-4941-8009-234240dfd546",
   "metadata": {},
   "source": [
    "# 분산과 표준편차"
   ]
  },
  {
   "cell_type": "code",
   "execution_count": 2,
   "id": "8adb8b5c-7e7d-4737-a3f7-a8701b458268",
   "metadata": {},
   "outputs": [
    {
     "data": {
      "text/html": [
       "<div>\n",
       "<style scoped>\n",
       "    .dataframe tbody tr th:only-of-type {\n",
       "        vertical-align: middle;\n",
       "    }\n",
       "\n",
       "    .dataframe tbody tr th {\n",
       "        vertical-align: top;\n",
       "    }\n",
       "\n",
       "    .dataframe thead th {\n",
       "        text-align: right;\n",
       "    }\n",
       "</style>\n",
       "<table border=\"1\" class=\"dataframe\">\n",
       "  <thead>\n",
       "    <tr style=\"text-align: right;\">\n",
       "      <th></th>\n",
       "      <th>height</th>\n",
       "      <th>weight</th>\n",
       "    </tr>\n",
       "  </thead>\n",
       "  <tbody>\n",
       "    <tr>\n",
       "      <th>0</th>\n",
       "      <td>188.3</td>\n",
       "      <td>85.8</td>\n",
       "    </tr>\n",
       "    <tr>\n",
       "      <th>1</th>\n",
       "      <td>176.2</td>\n",
       "      <td>78.0</td>\n",
       "    </tr>\n",
       "    <tr>\n",
       "      <th>2</th>\n",
       "      <td>175.9</td>\n",
       "      <td>75.6</td>\n",
       "    </tr>\n",
       "    <tr>\n",
       "      <th>3</th>\n",
       "      <td>181.1</td>\n",
       "      <td>85.1</td>\n",
       "    </tr>\n",
       "    <tr>\n",
       "      <th>4</th>\n",
       "      <td>182.6</td>\n",
       "      <td>82.3</td>\n",
       "    </tr>\n",
       "    <tr>\n",
       "      <th>...</th>\n",
       "      <td>...</td>\n",
       "      <td>...</td>\n",
       "    </tr>\n",
       "    <tr>\n",
       "      <th>495</th>\n",
       "      <td>172.0</td>\n",
       "      <td>70.0</td>\n",
       "    </tr>\n",
       "    <tr>\n",
       "      <th>496</th>\n",
       "      <td>169.6</td>\n",
       "      <td>83.0</td>\n",
       "    </tr>\n",
       "    <tr>\n",
       "      <th>497</th>\n",
       "      <td>163.3</td>\n",
       "      <td>68.6</td>\n",
       "    </tr>\n",
       "    <tr>\n",
       "      <th>498</th>\n",
       "      <td>185.7</td>\n",
       "      <td>95.6</td>\n",
       "    </tr>\n",
       "    <tr>\n",
       "      <th>499</th>\n",
       "      <td>167.7</td>\n",
       "      <td>76.7</td>\n",
       "    </tr>\n",
       "  </tbody>\n",
       "</table>\n",
       "<p>500 rows × 2 columns</p>\n",
       "</div>"
      ],
      "text/plain": [
       "     height  weight\n",
       "0     188.3    85.8\n",
       "1     176.2    78.0\n",
       "2     175.9    75.6\n",
       "3     181.1    85.1\n",
       "4     182.6    82.3\n",
       "..      ...     ...\n",
       "495   172.0    70.0\n",
       "496   169.6    83.0\n",
       "497   163.3    68.6\n",
       "498   185.7    95.6\n",
       "499   167.7    76.7\n",
       "\n",
       "[500 rows x 2 columns]"
      ]
     },
     "execution_count": 2,
     "metadata": {},
     "output_type": "execute_result"
    }
   ],
   "source": [
    "import pandas as pd\n",
    "\n",
    "body_df = pd.read_csv('../data-2/body.csv') # 연속형 데이터 키, 몸무게\n",
    "body_df"
   ]
  },
  {
   "cell_type": "markdown",
   "id": "5eb3aa73-6834-4cc0-b00b-dfd86185d079",
   "metadata": {},
   "source": [
    "<분산과 표준편차를 구하는 방식 - `Library간의 차이`>\n",
    "- `pandas` : n-1(표본)로 나눠준다. 표본에 대한 분산이 과소 평가 되는 경향이 있어서, 부풀려주는 의미\n",
    "- `numpy` : n(모집단)으로 나눠준다. 엄밀히는 틀리다고 할 수 있지만, 큰 틀의 경향에서는 큰 차이가 없다."
   ]
  },
  {
   "cell_type": "code",
   "execution_count": 3,
   "id": "94ab7de6-d830-4d16-95cc-5f624f9f09c8",
   "metadata": {},
   "outputs": [
    {
     "data": {
      "text/plain": [
       "52.92330276553103"
      ]
     },
     "execution_count": 3,
     "metadata": {},
     "output_type": "execute_result"
    }
   ],
   "source": [
    "# 분산 : variance\n",
    "body_df['height'].var()"
   ]
  },
  {
   "cell_type": "code",
   "execution_count": 7,
   "id": "4ac9f0fe-c068-47a9-82ef-ce5ebd01f40f",
   "metadata": {},
   "outputs": [
    {
     "data": {
      "text/plain": [
       "7.2748403945056435"
      ]
     },
     "execution_count": 7,
     "metadata": {},
     "output_type": "execute_result"
    }
   ],
   "source": [
    "# 표준 편차 : std\n",
    "body_df['height'].std()"
   ]
  },
  {
   "cell_type": "markdown",
   "id": "885ccdc4",
   "metadata": {},
   "source": [
    "- numpy를 활용한 분산/표준편차\n",
    "    - 값이 더 작다."
   ]
  },
  {
   "cell_type": "code",
   "execution_count": 6,
   "id": "6daee3b9-c4e9-4158-b3c0-1a7f6a358cda",
   "metadata": {},
   "outputs": [
    {
     "data": {
      "text/plain": [
       "52.81745615999996"
      ]
     },
     "execution_count": 6,
     "metadata": {},
     "output_type": "execute_result"
    }
   ],
   "source": [
    "import numpy as np\n",
    "\n",
    "np.var(body_df['height'])\n",
    "\n",
    "# pandas보다 1큰 값인 n으로 나눠줬으므로,\n",
    "# 더 작은 분산 값이 나오는 것을 확인할 수 있다."
   ]
  },
  {
   "cell_type": "code",
   "execution_count": 8,
   "id": "5b088a8f-cc09-43cf-990b-6c5a0e9c8dc8",
   "metadata": {},
   "outputs": [
    {
     "data": {
      "text/plain": [
       "7.267561913048967"
      ]
     },
     "execution_count": 8,
     "metadata": {},
     "output_type": "execute_result"
    }
   ],
   "source": [
    "# 마찬가지다.\n",
    "np.std(body_df['height'])"
   ]
  },
  {
   "cell_type": "markdown",
   "id": "bfc6a0a2-bd00-403d-b567-5bfe40ecd125",
   "metadata": {},
   "source": [
    "- `describe()`은 n-1로 나눈 값."
   ]
  },
  {
   "cell_type": "code",
   "execution_count": 10,
   "id": "dba4b27f-39f1-4f13-a475-fd5879c81de9",
   "metadata": {},
   "outputs": [
    {
     "data": {
      "text/html": [
       "<div>\n",
       "<style scoped>\n",
       "    .dataframe tbody tr th:only-of-type {\n",
       "        vertical-align: middle;\n",
       "    }\n",
       "\n",
       "    .dataframe tbody tr th {\n",
       "        vertical-align: top;\n",
       "    }\n",
       "\n",
       "    .dataframe thead th {\n",
       "        text-align: right;\n",
       "    }\n",
       "</style>\n",
       "<table border=\"1\" class=\"dataframe\">\n",
       "  <thead>\n",
       "    <tr style=\"text-align: right;\">\n",
       "      <th></th>\n",
       "      <th>height</th>\n",
       "      <th>weight</th>\n",
       "    </tr>\n",
       "  </thead>\n",
       "  <tbody>\n",
       "    <tr>\n",
       "      <th>count</th>\n",
       "      <td>500.00000</td>\n",
       "      <td>500.000000</td>\n",
       "    </tr>\n",
       "    <tr>\n",
       "      <th>mean</th>\n",
       "      <td>173.26280</td>\n",
       "      <td>75.542600</td>\n",
       "    </tr>\n",
       "    <tr>\n",
       "      <th>std</th>\n",
       "      <td>7.27484</td>\n",
       "      <td>7.303482</td>\n",
       "    </tr>\n",
       "    <tr>\n",
       "      <th>min</th>\n",
       "      <td>151.30000</td>\n",
       "      <td>54.100000</td>\n",
       "    </tr>\n",
       "    <tr>\n",
       "      <th>25%</th>\n",
       "      <td>168.50000</td>\n",
       "      <td>70.775000</td>\n",
       "    </tr>\n",
       "    <tr>\n",
       "      <th>50%</th>\n",
       "      <td>172.95000</td>\n",
       "      <td>75.300000</td>\n",
       "    </tr>\n",
       "    <tr>\n",
       "      <th>75%</th>\n",
       "      <td>178.22500</td>\n",
       "      <td>80.650000</td>\n",
       "    </tr>\n",
       "    <tr>\n",
       "      <th>max</th>\n",
       "      <td>195.80000</td>\n",
       "      <td>95.600000</td>\n",
       "    </tr>\n",
       "  </tbody>\n",
       "</table>\n",
       "</div>"
      ],
      "text/plain": [
       "          height      weight\n",
       "count  500.00000  500.000000\n",
       "mean   173.26280   75.542600\n",
       "std      7.27484    7.303482\n",
       "min    151.30000   54.100000\n",
       "25%    168.50000   70.775000\n",
       "50%    172.95000   75.300000\n",
       "75%    178.22500   80.650000\n",
       "max    195.80000   95.600000"
      ]
     },
     "execution_count": 10,
     "metadata": {},
     "output_type": "execute_result"
    }
   ],
   "source": [
    "body_df.describe()"
   ]
  },
  {
   "cell_type": "code",
   "execution_count": 7,
   "id": "d1b48cd8-d9a4-4c9a-9267-3cc14086724b",
   "metadata": {},
   "outputs": [
    {
     "data": {
      "text/html": [
       "<div>\n",
       "<style scoped>\n",
       "    .dataframe tbody tr th:only-of-type {\n",
       "        vertical-align: middle;\n",
       "    }\n",
       "\n",
       "    .dataframe tbody tr th {\n",
       "        vertical-align: top;\n",
       "    }\n",
       "\n",
       "    .dataframe thead th {\n",
       "        text-align: right;\n",
       "    }\n",
       "</style>\n",
       "<table border=\"1\" class=\"dataframe\">\n",
       "  <thead>\n",
       "    <tr style=\"text-align: right;\">\n",
       "      <th></th>\n",
       "      <th>height</th>\n",
       "      <th>weight</th>\n",
       "    </tr>\n",
       "  </thead>\n",
       "  <tbody>\n",
       "    <tr>\n",
       "      <th>count</th>\n",
       "      <td>500.00000</td>\n",
       "      <td>500.000000</td>\n",
       "    </tr>\n",
       "    <tr>\n",
       "      <th>mean</th>\n",
       "      <td>173.26280</td>\n",
       "      <td>75.542600</td>\n",
       "    </tr>\n",
       "    <tr>\n",
       "      <th>std</th>\n",
       "      <td>7.27484</td>\n",
       "      <td>7.303482</td>\n",
       "    </tr>\n",
       "    <tr>\n",
       "      <th>min</th>\n",
       "      <td>151.30000</td>\n",
       "      <td>54.100000</td>\n",
       "    </tr>\n",
       "    <tr>\n",
       "      <th>25%</th>\n",
       "      <td>168.50000</td>\n",
       "      <td>70.775000</td>\n",
       "    </tr>\n",
       "    <tr>\n",
       "      <th>50%</th>\n",
       "      <td>172.95000</td>\n",
       "      <td>75.300000</td>\n",
       "    </tr>\n",
       "    <tr>\n",
       "      <th>75%</th>\n",
       "      <td>178.22500</td>\n",
       "      <td>80.650000</td>\n",
       "    </tr>\n",
       "    <tr>\n",
       "      <th>max</th>\n",
       "      <td>195.80000</td>\n",
       "      <td>95.600000</td>\n",
       "    </tr>\n",
       "  </tbody>\n",
       "</table>\n",
       "</div>"
      ],
      "text/plain": [
       "          height      weight\n",
       "count  500.00000  500.000000\n",
       "mean   173.26280   75.542600\n",
       "std      7.27484    7.303482\n",
       "min    151.30000   54.100000\n",
       "25%    168.50000   70.775000\n",
       "50%    172.95000   75.300000\n",
       "75%    178.22500   80.650000\n",
       "max    195.80000   95.600000"
      ]
     },
     "execution_count": 7,
     "metadata": {},
     "output_type": "execute_result"
    }
   ],
   "source": []
  },
  {
   "cell_type": "code",
   "execution_count": null,
   "id": "03dcfa92-0961-4d8e-9644-0372c802a8d5",
   "metadata": {},
   "outputs": [],
   "source": []
  }
 ],
 "metadata": {
  "kernelspec": {
   "display_name": "base",
   "language": "python",
   "name": "python3"
  },
  "language_info": {
   "codemirror_mode": {
    "name": "ipython",
    "version": 3
   },
   "file_extension": ".py",
   "mimetype": "text/x-python",
   "name": "python",
   "nbconvert_exporter": "python",
   "pygments_lexer": "ipython3",
   "version": "3.12.4"
  }
 },
 "nbformat": 4,
 "nbformat_minor": 5
}
