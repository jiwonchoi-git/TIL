{
  "nbformat": 4,
  "nbformat_minor": 0,
  "metadata": {
    "colab": {
      "provenance": []
    },
    "kernelspec": {
      "name": "python3",
      "display_name": "Python 3"
    },
    "language_info": {
      "name": "python"
    }
  },
  "cells": [
    {
      "cell_type": "markdown",
      "source": [
        "## 문제1. 급여 인상"
      ],
      "metadata": {
        "id": "ZmwLTFF5nMFE"
      }
    },
    {
      "cell_type": "markdown",
      "source": [
        "\n",
        "  당신은 데이터 분석가로, 한 회사의 직원 급여 데이터를 분석하고 있습니다. 이 회사는 직원의 급여 정보를 numpy 배열로 관리하고 있습니다. 회사는 이번에 직원들의 급여를 인상하려고 하는데, 특정 조건을 만족하는 직원들의 급여만 인상하기로 했습니다.\n",
        "\n",
        "\n",
        "  회사는 다음과 같은 조건으로 급여를 인상하려고 합니다:\n",
        "\n",
        "*  급여가 5000 이상인 직원들의 급여를 10% 인상합니다.\n",
        "\n",
        "*   급여가 3000 이상 5000 미만인 직원들의 급여를 5% 인상합니다.\n",
        "*   급여가 3000 미만인 직원들의 급여를 1000원 인상합니다.\n",
        "\n",
        "\n",
        "\n",
        " 직원들의 급여 정보가 담긴 numpy 배열이 주어졌을 때, 각 조건에 따라 급여를 인상한 새로운 numpy 배열을 반환하는 함수를 작성하세요.\n"
      ],
      "metadata": {
        "id": "31P4wJSPntM_"
      }
    },
    {
      "cell_type": "markdown",
      "source": [
        "- 입력:\n",
        "직원들의 급여 정보가 담긴 1차원 numpy 배열 salaries가 주어집니다.\n",
        "\n",
        "- 출력:\n",
        "각 조건에 따라 급여가 인상된 새로운 1차원 numpy 배열을 반환합니다."
      ],
      "metadata": {
        "id": "iLlVqrfRwbSv"
      }
    },
    {
      "cell_type": "code",
      "source": [
        "# 문제\n",
        "\n",
        "\n",
        "import numpy as np\n",
        "# 예시 입력값\n",
        "salaries = np.array([2500, 3200, 4500, 5000, 7000])\n",
        "\n",
        "# adjust_salaries 함수를 완성해 주세요\n",
        "def adjust_salaries(salaries):\n",
        "    # 여기에 코드를 작성하세요\n",
        "    return new_salaries\n",
        "\n",
        "# 결과 예시\n",
        "# adjusted_salaries = adjust_salaries(salaries)\n",
        "# print(adjusted_salaries)\n",
        "\n",
        "\n"
      ],
      "metadata": {
        "id": "S8q4Ke1N9kO3"
      },
      "execution_count": null,
      "outputs": []
    },
    {
      "cell_type": "markdown",
      "source": [
        "## 문제2. 성적 데이터 분석"
      ],
      "metadata": {
        "id": "ZSVoIch_-ard"
      }
    },
    {
      "cell_type": "markdown",
      "source": [
        "교수님은 대학의 학생 성적 데이터를 분석하고 있습니다. 이 대학은 학생들의 성적 정보를 2차원 numpy 배열로 관리하고 있습니다. 배열의 각 행은 각각의 학생을 나타내며, 각 열은 학생의 과목별 성적을 나타냅니다. 이번 학기 중간고사 성적이 나왔고, 교수님은 특정 조건에 따라 성적을 조정하기로 했습니다.\n",
        "\n",
        "\n",
        "\n",
        "교수님은 다음과 같은 조건으로 성적을 조정하려고 합니다:\n",
        "\n",
        "- 특정 과목(예: 두 번째 과목)의 성적이 60점 미만인 학생들은 그 과목 성적을 60점으로 조정합니다.\n",
        "\n",
        "- 특정 과목(예: 세 번째 과목)의 성적이 90점 이상인 학생들은 그 과목 성적을 5점 인상합니다. 단, 최고 점수는 100점입니다.\n",
        "\n",
        "\n",
        "학생들의 성적 정보가 담긴 2차원 numpy 배열이 주어졌을 때, 각 조건에 따라 성적을 조정한 새로운 배열을 반환하는 함수를 작성하세요."
      ],
      "metadata": {
        "id": "_dQq-rqw-8sX"
      }
    },
    {
      "cell_type": "markdown",
      "source": [
        "* 입력: 학생들의 성적 정보가 담긴 2차원 numpy 배열 grades가 주어집니다.\n",
        "\n",
        "* 출력: 각 조건에 따라 성적이 조정된 새로운 2차원 numpy 배열을 반환합니다.\n",
        "\n",
        "\n"
      ],
      "metadata": {
        "id": "LTHo9RsP_NRe"
      }
    },
    {
      "cell_type": "code",
      "source": [
        "# 문제\n",
        "\n",
        "\n",
        "import numpy as np\n",
        "\n",
        "# 예시 입력값\n",
        "grades = np.array([\n",
        "    [55, 65, 70],\n",
        "    [80, 45, 85],\n",
        "    [75, 90, 95],\n",
        "    [60, 58, 92]\n",
        "])\n",
        "\n",
        "# adjust_grades 함수를 완성해 주세요\n",
        "def adjust_grades(grades):\n",
        "    # 여기에 코드를 작성해 주세요\n",
        "    return new_grades\n",
        "\n",
        "# 결과 예시\n",
        "# adjusted_grades = adjust_grades(grades)\n",
        "# print(adjusted_grades)"
      ],
      "metadata": {
        "collapsed": true,
        "id": "iNcUZBH3-8HQ"
      },
      "execution_count": null,
      "outputs": []
    },
    {
      "cell_type": "markdown",
      "source": [
        "## 문제3. 건강 지표 업데이트"
      ],
      "metadata": {
        "id": "l_rUV_HP_1Se"
      }
    },
    {
      "cell_type": "markdown",
      "source": [
        "A 병원에서는 특정 조건에 따라 환자들의 건강 지표를 업데이트하려고 합니다. 이 병원은 환자들의 건강 지표를 2차원 numpy 배열로 관리하고 있습니다. 배열의 각 행은 각각의 환자를 나타내며, 각 열은 환자의 건강 지표를 나타냅니다.\n",
        "\n",
        "\n",
        "병원에서는 다음과 같은 조건으로 환자들의 건강 지표를 업데이트하려고 합니다:\n",
        "\n",
        "\n",
        "*   특정 지표(예: 네 번째 지표)가 100 이상인 환자들은 그 지표의 값을 100으로 조정합니다.\n",
        "\n",
        "*   특정 지표(예: 두 번째 지표)가 50 미만인 환자들은 그 지표의 값을 50으로 조정합니다.\n",
        "\n",
        "*   특정 지표(예: 첫 번째 지표)가 0 이하인 환자들은 그 지표의 값을 1로 조정합니다.\n",
        "\n",
        "환자들의 건강 지표 정보가 담긴 2차원 numpy 배열이 주어졌을 때, 각 조건에 따라 건강 지표를 업데이트한 새로운 배열을 반환하는 함수를 작성하세요."
      ],
      "metadata": {
        "id": "ucaM1NqIAA04"
      }
    },
    {
      "cell_type": "markdown",
      "source": [
        "\n",
        "*   입력: 환자들의 건강 지표 정보가 담긴 2차원 numpy 배열 health_data가 주어집니다.\n",
        "\n",
        "*   출력: 각 조건에 따라 건강 지표가 업데이트된 새로운 2차원 numpy 배열을 반환합니다.\n",
        "\n"
      ],
      "metadata": {
        "id": "o3T2EGW-Aoag"
      }
    },
    {
      "cell_type": "code",
      "source": [
        "# 문제\n",
        "\n",
        "\n",
        "import numpy as np\n",
        "\n",
        "# 예시 입력값\n",
        "health_data = np.array([\n",
        "    [0, 60, 85, 120],\n",
        "    [45, 40, 95, 110],\n",
        "    [25, 55, 78, 99],\n",
        "    [-5, 70, 82, 105]\n",
        "])\n",
        "\n",
        "# 아래 update_health_data 함수를 완성해 주세요\n",
        "def update_health_data(health_data):\n",
        "    # 여기에 코드를 작성해 주세요\n",
        "    return new_health_data\n",
        "\n",
        "# 예시 결과값\n",
        "# updated_health_data = update_health_data(health_data)\n",
        "# print(updated_health_data)\n"
      ],
      "metadata": {
        "id": "RaqeLGlX_ui9"
      },
      "execution_count": null,
      "outputs": []
    },
    {
      "cell_type": "markdown",
      "source": [
        "## 문제4. 쇼핑몰 고객 데이터 분석"
      ],
      "metadata": {
        "id": "7m-aN4DTBo0t"
      }
    },
    {
      "cell_type": "markdown",
      "source": [
        "코드잇 쇼핑몰은 행사 기간에 고객별로 특별 할인 쿠폰을 제공하려고 합니다. 이 쇼핑몰은 고객들의 구매 기록을 2차원 numpy 배열로 관리하고 있습니다. 배열의 각 행은 각각의 고객을 나타내며, 각 열은 특정 기간 동안의 구매 금액을 나타냅니다. 쇼핑몰은 특정 조건을 만족하는 고객들을 찾아내어 특별 할인 쿠폰을 제공하려고 합니다.\n",
        "\n",
        "쇼핑몰은 다음과 같은 조건으로 고객들을 선별하려고 합니다:\n",
        "\n",
        "\n",
        "\n",
        "*   특정 기간(예: 세 번째 기간) 동안 구매 금액이 100 이상인 고객들을 찾아내어 그 고객들의 정보를 출력합니다.\n",
        "*   모든 기간 동안의 총 구매 금액이 300 이상인 고객들을 찾아내어 그 고객들의 정보를 출력합니다.\n",
        "\n",
        "\n",
        "고객들의 구매 기록이 담긴 2차원 numpy 배열이 주어졌을 때, 각 조건을 만족하는 고객들의 정보를 출력하는 함수를 작성하세요.\n"
      ],
      "metadata": {
        "id": "kpCBX4zlBzyS"
      }
    },
    {
      "cell_type": "markdown",
      "source": [
        "\n",
        "\n",
        "*   입력: 고객들의 구매 기록이 담긴 2차원 numpy 배열 purchase_data가 주어집니다.\n",
        "*   출력: 각 조건을 만족하는 고객들의 정보를 출력합니다.\n",
        "\n",
        "\n"
      ],
      "metadata": {
        "id": "g7mOprb0CrXr"
      }
    },
    {
      "cell_type": "code",
      "source": [
        "# 문제\n",
        "\n",
        "import numpy as np\n",
        "\n",
        "# 예시 인풋\n",
        "purchase_data = np.array([\n",
        "    [50, 60, 90],\n",
        "    [120, 150, 200],\n",
        "    [30, 20, 10],\n",
        "    [100, 110, 120]\n",
        "])\n",
        "\n",
        "# 아래 find_customers 함수를 완성해 주세요\n",
        "def find_customers(purchase_data):\n",
        "    # 여기에 코드를 작성해 주세요\n",
        "    return\n",
        "\n",
        "# 예시 결과물\n",
        "# find_customers(purchase_data)\n"
      ],
      "metadata": {
        "id": "JxhIP3fSBFvJ"
      },
      "execution_count": null,
      "outputs": []
    },
    {
      "cell_type": "markdown",
      "source": [
        "## 문제5. 월별 매출 데이터 시각화\n",
        "\n",
        "\n",
        "A 회사는 지난 1년 동안의 월별 매출 데이터를 제공했습니다. 당신의 목표는 이 데이터를 시각화하여 매출의 추이를 한 눈에 파악할 수 있도록 하는 것입니다.\n",
        "\n",
        "\n",
        "1. 월별 매출 데이터를 y축에, 월을 x축에 표시한 선 그래프를 생성합니다.\n",
        "2. 그래프의 제목과 축 레이블을 적절히 추가합니다.\n",
        "3. 그래프에 격자선을 추가합니다.\n",
        "\n",
        "\n",
        "주어진 월별 매출 데이터를 사용하여 선 그래프를 생성하는 함수를 작성하세요.\n",
        "\n"
      ],
      "metadata": {
        "id": "PkDXdvTrJXe7"
      }
    },
    {
      "cell_type": "markdown",
      "source": [
        "\n",
        "* 입력: 월별 매출 데이터가 담긴 리스트 monthly_sales가 주어집니다. 리스트의 길이는 12이며, 각 원소는 1월부터 12월까지의 매출을 나타냅니다.\n",
        "* 출력: matplotlib을 사용하여 생성된 선 그래프를 출력합니다."
      ],
      "metadata": {
        "id": "qz-bDhbfKmhA"
      }
    },
    {
      "cell_type": "code",
      "source": [
        "# 문제\n",
        "\n",
        "import matplotlib.pyplot as plt\n",
        "\n",
        "# 1년 월별 매출 데이터\n",
        "monthly_sales = [12000, 15000, 17000, 13000, 16000, 18000, 20000, 21000, 19000, 22000, 24000, 23000]\n",
        "\n",
        "# 아래 plot_monthly_sales 함수를 완성해 주세요\n",
        "def plot_monthly_sales(monthly_sales):\n",
        "    # 여기에 코드를 작성해주세요\n",
        "    pass\n",
        "\n",
        "# 결과물\n",
        "# plot_monthly_sales(monthly_sales)\n"
      ],
      "metadata": {
        "id": "LF1_WtJBC85L"
      },
      "execution_count": null,
      "outputs": []
    },
    {
      "cell_type": "markdown",
      "source": [
        "## 문제6. 선호하는 과목 시각화"
      ],
      "metadata": {
        "id": "Y-X-hGFWK1AE"
      }
    },
    {
      "cell_type": "markdown",
      "source": [
        "코드잇 학교에서는 학교의 학생들이 선호하는 과목에 대한 설문조사 데이터를 분석하고 있습니다. 이 학교는 각 과목별로 학생들이 얼마나 선호하는지를 조사하여 데이터를 정리하였습니다. 이 데이터를 시각화하여 학생들이 선호하는 과목을 한 눈에 파악할 수 있도록 해보세요.\n",
        "\n",
        "주어진 과목별 학생 선호도 데이터를 사용하여 바 그래프를 생성하는 함수를 작성하세요. 이 함수는 다음을 수행해야 합니다:\n",
        "\n",
        "1. 과목별 학생 선호도 데이터를 y축에, 과목을 x축에 표시한 바 그래프를 생성합니다.\n",
        "2. 그래프의 제목과 축 레이블을 적절히 추가합니다.\n",
        "3. 각 바의 색상을 다르게 설정합니다.\n",
        "4. 그래프에 격자선을 추가합니다.\n",
        "\n",
        "\n"
      ],
      "metadata": {
        "id": "ejs0AZuPLHlY"
      }
    },
    {
      "cell_type": "markdown",
      "source": [
        "* 입력: 과목별 학생 선호도 데이터가 담긴 딕셔너리 subject_preferences가 주어집니다. 딕셔너리의 키는 과목명을 나타내며, 값은 해당 과목을 선호하는 학생 수를 나타냅니다.\n",
        "* 출력: matplotlib을 사용하여 생성된 바 그래프를 출력합니다."
      ],
      "metadata": {
        "id": "UaRQBOIVLaTZ"
      }
    },
    {
      "cell_type": "code",
      "source": [
        "# 문제\n",
        "\n",
        "import matplotlib.pyplot as plt\n",
        "\n",
        "# 입력 데이터\n",
        "subject_preferences = {\n",
        "    'Math': 120,\n",
        "    'Science': 100,\n",
        "    'History': 90,\n",
        "    'English': 110,\n",
        "    'Art': 70,\n",
        "    'Physical Education': 150\n",
        "}\n",
        "\n",
        "# 아래 plot_subject_preferences 함수를 완성해 주세요\n",
        "def plot_subject_preferences(subject_preferences):\n",
        "    # 여기에 코드를 작성해 주세요\n",
        "    pass\n",
        "\n",
        "# 결과 시각화\n",
        "# plot_subject_preferences(subject_preferences)\n"
      ],
      "metadata": {
        "id": "B7viDSUKLGvZ"
      },
      "execution_count": null,
      "outputs": []
    },
    {
      "cell_type": "markdown",
      "source": [
        "# 호텔 분석 데이터셋\n",
        "\n",
        "여기부터 진행하는 문제들은 호텔 분석 데이터셋으로 진행합니다. 가이드에 첨부드린 호텔 분석 데이터셋을 활용하여 아래 문제를 진행해 주세요."
      ],
      "metadata": {
        "id": "i7TN_KpwNOAi"
      }
    },
    {
      "cell_type": "code",
      "source": [
        "### 개발환경 세팅하기\n",
        "\n",
        "# ▶ 한글 폰트 다운로드\n",
        "!sudo apt-get install -y fonts-nanum\n",
        "!sudo fc-cache -fv\n",
        "!rm ~/.cache/matplotlib -rf"
      ],
      "metadata": {
        "colab": {
          "base_uri": "https://localhost:8080/"
        },
        "id": "iQ0EYYf5OPul",
        "outputId": "9d9fa393-2c7b-468f-d580-bc07b87bb089"
      },
      "execution_count": null,
      "outputs": [
        {
          "output_type": "stream",
          "name": "stdout",
          "text": [
            "Reading package lists... Done\n",
            "Building dependency tree... Done\n",
            "Reading state information... Done\n",
            "The following NEW packages will be installed:\n",
            "  fonts-nanum\n",
            "0 upgraded, 1 newly installed, 0 to remove and 45 not upgraded.\n",
            "Need to get 10.3 MB of archives.\n",
            "After this operation, 34.1 MB of additional disk space will be used.\n",
            "Get:1 http://archive.ubuntu.com/ubuntu jammy/universe amd64 fonts-nanum all 20200506-1 [10.3 MB]\n",
            "Fetched 10.3 MB in 13s (768 kB/s)\n",
            "debconf: unable to initialize frontend: Dialog\n",
            "debconf: (No usable dialog-like program is installed, so the dialog based frontend cannot be used. at /usr/share/perl5/Debconf/FrontEnd/Dialog.pm line 78, <> line 1.)\n",
            "debconf: falling back to frontend: Readline\n",
            "debconf: unable to initialize frontend: Readline\n",
            "debconf: (This frontend requires a controlling tty.)\n",
            "debconf: falling back to frontend: Teletype\n",
            "dpkg-preconfigure: unable to re-open stdin: \n",
            "Selecting previously unselected package fonts-nanum.\n",
            "(Reading database ... 121918 files and directories currently installed.)\n",
            "Preparing to unpack .../fonts-nanum_20200506-1_all.deb ...\n",
            "Unpacking fonts-nanum (20200506-1) ...\n",
            "Setting up fonts-nanum (20200506-1) ...\n",
            "Processing triggers for fontconfig (2.13.1-4.2ubuntu5) ...\n",
            "/usr/share/fonts: caching, new cache contents: 0 fonts, 1 dirs\n",
            "/usr/share/fonts/truetype: caching, new cache contents: 0 fonts, 3 dirs\n",
            "/usr/share/fonts/truetype/humor-sans: caching, new cache contents: 1 fonts, 0 dirs\n",
            "/usr/share/fonts/truetype/liberation: caching, new cache contents: 16 fonts, 0 dirs\n",
            "/usr/share/fonts/truetype/nanum: caching, new cache contents: 12 fonts, 0 dirs\n",
            "/usr/local/share/fonts: caching, new cache contents: 0 fonts, 0 dirs\n",
            "/root/.local/share/fonts: skipping, no such directory\n",
            "/root/.fonts: skipping, no such directory\n",
            "/usr/share/fonts/truetype: skipping, looped directory detected\n",
            "/usr/share/fonts/truetype/humor-sans: skipping, looped directory detected\n",
            "/usr/share/fonts/truetype/liberation: skipping, looped directory detected\n",
            "/usr/share/fonts/truetype/nanum: skipping, looped directory detected\n",
            "/var/cache/fontconfig: cleaning cache directory\n",
            "/root/.cache/fontconfig: not cleaning non-existent cache directory\n",
            "/root/.fontconfig: not cleaning non-existent cache directory\n",
            "fc-cache: succeeded\n"
          ]
        }
      ]
    },
    {
      "cell_type": "code",
      "source": [
        "# ▶ 한글 폰트 설정하기\n",
        "import matplotlib.pyplot as plt\n",
        "plt.rc('font', family='NanumBarunGothic')\n",
        "plt.rcParams['axes.unicode_minus'] =False\n",
        "\n",
        "# ▶ Warnings 제거\n",
        "import warnings\n",
        "warnings.filterwarnings('ignore')\n",
        "\n",
        "# ▶ Google drive mount or 폴더 클릭 후 구글드라이브 연결\n",
        "from google.colab import drive\n",
        "drive.mount('/content/drive')"
      ],
      "metadata": {
        "colab": {
          "base_uri": "https://localhost:8080/"
        },
        "id": "Kx4rRZ5OOQmJ",
        "outputId": "91030ceb-6b85-411f-f3f7-f1c725fcd359"
      },
      "execution_count": null,
      "outputs": [
        {
          "output_type": "stream",
          "name": "stdout",
          "text": [
            "Mounted at /content/drive\n"
          ]
        }
      ]
    },
    {
      "cell_type": "markdown",
      "source": [
        "## 문제7. 데이터셋 불러오기\n",
        "\n",
        "전달드린 호텔 분석 데이터셋을 불러와주세요."
      ],
      "metadata": {
        "id": "CuU2dEZXLyop"
      }
    },
    {
      "cell_type": "code",
      "source": [
        "# 문제\n",
        "import pandas as pd\n",
        "\n",
        "\n",
        "# 아래에 내용을 작성해 주세요\n",
        "data ="
      ],
      "metadata": {
        "id": "-T9w4EWrNNE1"
      },
      "execution_count": null,
      "outputs": []
    },
    {
      "cell_type": "markdown",
      "source": [
        "## 문제8. 데이터 탐색\n",
        "\n",
        "불러온 데이터를 간략하게 탐색해 봅시다.\n",
        "1. 총 몇 개의 컬럼과 로우가 있는지 파악해 보세요.\n",
        "2. 데이터의 컬럼 명들이 무엇이 있는지 파악해 보세요.\n",
        "3. 데이터셋의 일부 로우를 보고 싶은데요, 처음 10개의 로우를 출력해 보세요.\n",
        "4. 데이터셋의 기본 통계 정보를 파악해 보세요."
      ],
      "metadata": {
        "id": "HdweyRxJNNa_"
      }
    },
    {
      "cell_type": "code",
      "source": [
        "# 문제\n",
        "\n"
      ],
      "metadata": {
        "id": "JgirGoI8Pj9I"
      },
      "execution_count": null,
      "outputs": []
    },
    {
      "cell_type": "markdown",
      "source": [
        "## 문제9. 2016년도 2월에 예약한 데이터는?\n",
        "\n",
        "호텔의 지배인이 2016년 2월의 데이터가 궁금하다고 하네요. 2016년 2월에 예약된 건들의 데이터만 추출해서 따로 데이터프레임으로 추출해보아요.\n",
        "\n",
        "1. 2016년 2월에 예약된 건들만 데이터프레임으로 추출해보아요.\n",
        "2. describe() 함수를 활용해서 추출한 데이터셋의 기본 통계 정보를 한 눈에 파악해 봅시다."
      ],
      "metadata": {
        "id": "rAdxSL7OQP3i"
      }
    },
    {
      "cell_type": "code",
      "source": [
        "# 문제\n",
        "\n",
        "# 2016년 2월에 예약된 건들만 데이터프레임으로 추출해보아요.\n",
        "feb_2016_reservations =\n",
        "\n",
        "# describe() 함수를 활용해서 추출한 데이터셋의 기본 통계 정보를 한 눈에 파악해 봅시다.\n"
      ],
      "metadata": {
        "id": "naROl3JtR_BM"
      },
      "execution_count": null,
      "outputs": []
    },
    {
      "cell_type": "markdown",
      "source": [
        "## 문제10. 예약이 취소된 건수는?\n",
        "\n",
        "2016년도 2월에 예약된 데이터 중, 예약이 취소된 건들의 수를 파악해보고자 합니다. 문제9번에서 추출한 데이터에서 예약이 취소된 ('is_canceled' 칼럼의 값이 1) 로우들을 활용해 보아요.\n",
        "\n",
        "1. 문제9번에서 만든 데이터프레임을 활용합니다.\n",
        "2. 그 중 예약이 취소된 로우만 선택합니다.\n",
        "3. 해당 기간에 예약이 취소된 총 건수를 파악해보아요."
      ],
      "metadata": {
        "id": "zc5ife4XTN7h"
      }
    },
    {
      "cell_type": "code",
      "source": [
        "# 문제"
      ],
      "metadata": {
        "id": "2xOBz6J3T2vD"
      },
      "execution_count": null,
      "outputs": []
    }
  ]
}