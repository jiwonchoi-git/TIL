{
 "cells": [
  {
   "cell_type": "markdown",
   "id": "6c763068-c56f-489b-837d-c26185c0f4b0",
   "metadata": {},
   "source": [
    "# 박스 플롯과 이상점"
   ]
  },
  {
   "cell_type": "code",
   "execution_count": 1,
   "id": "5e4a7835-dca1-4515-8ff9-8f035111a857",
   "metadata": {},
   "outputs": [],
   "source": [
    "import pandas as pd\n",
    "import matplotlib.pyplot as plt"
   ]
  },
  {
   "cell_type": "code",
   "execution_count": 5,
   "id": "8561cb8b-4d30-4732-b528-aaf5629d41dd",
   "metadata": {},
   "outputs": [
    {
     "data": {
      "text/html": [
       "<div>\n",
       "<style scoped>\n",
       "    .dataframe tbody tr th:only-of-type {\n",
       "        vertical-align: middle;\n",
       "    }\n",
       "\n",
       "    .dataframe tbody tr th {\n",
       "        vertical-align: top;\n",
       "    }\n",
       "\n",
       "    .dataframe thead th {\n",
       "        text-align: right;\n",
       "    }\n",
       "</style>\n",
       "<table border=\"1\" class=\"dataframe\">\n",
       "  <thead>\n",
       "    <tr style=\"text-align: right;\">\n",
       "      <th></th>\n",
       "      <th>english_score</th>\n",
       "      <th>math_score</th>\n",
       "      <th>science_score</th>\n",
       "    </tr>\n",
       "  </thead>\n",
       "  <tbody>\n",
       "    <tr>\n",
       "      <th>0</th>\n",
       "      <td>42.5</td>\n",
       "      <td>82.5</td>\n",
       "      <td>86.0</td>\n",
       "    </tr>\n",
       "    <tr>\n",
       "      <th>1</th>\n",
       "      <td>50.0</td>\n",
       "      <td>72.5</td>\n",
       "      <td>70.0</td>\n",
       "    </tr>\n",
       "    <tr>\n",
       "      <th>2</th>\n",
       "      <td>62.5</td>\n",
       "      <td>92.5</td>\n",
       "      <td>86.0</td>\n",
       "    </tr>\n",
       "    <tr>\n",
       "      <th>3</th>\n",
       "      <td>60.0</td>\n",
       "      <td>77.5</td>\n",
       "      <td>86.0</td>\n",
       "    </tr>\n",
       "    <tr>\n",
       "      <th>4</th>\n",
       "      <td>65.0</td>\n",
       "      <td>85.0</td>\n",
       "      <td>86.0</td>\n",
       "    </tr>\n",
       "    <tr>\n",
       "      <th>...</th>\n",
       "      <td>...</td>\n",
       "      <td>...</td>\n",
       "      <td>...</td>\n",
       "    </tr>\n",
       "    <tr>\n",
       "      <th>295</th>\n",
       "      <td>65.0</td>\n",
       "      <td>32.5</td>\n",
       "      <td>84.0</td>\n",
       "    </tr>\n",
       "    <tr>\n",
       "      <th>296</th>\n",
       "      <td>67.5</td>\n",
       "      <td>80.0</td>\n",
       "      <td>80.0</td>\n",
       "    </tr>\n",
       "    <tr>\n",
       "      <th>297</th>\n",
       "      <td>65.0</td>\n",
       "      <td>55.0</td>\n",
       "      <td>70.0</td>\n",
       "    </tr>\n",
       "    <tr>\n",
       "      <th>298</th>\n",
       "      <td>57.5</td>\n",
       "      <td>65.0</td>\n",
       "      <td>84.0</td>\n",
       "    </tr>\n",
       "    <tr>\n",
       "      <th>299</th>\n",
       "      <td>40.0</td>\n",
       "      <td>65.0</td>\n",
       "      <td>80.0</td>\n",
       "    </tr>\n",
       "  </tbody>\n",
       "</table>\n",
       "<p>300 rows × 3 columns</p>\n",
       "</div>"
      ],
      "text/plain": [
       "     english_score  math_score  science_score\n",
       "0             42.5        82.5           86.0\n",
       "1             50.0        72.5           70.0\n",
       "2             62.5        92.5           86.0\n",
       "3             60.0        77.5           86.0\n",
       "4             65.0        85.0           86.0\n",
       "..             ...         ...            ...\n",
       "295           65.0        32.5           84.0\n",
       "296           67.5        80.0           80.0\n",
       "297           65.0        55.0           70.0\n",
       "298           57.5        65.0           84.0\n",
       "299           40.0        65.0           80.0\n",
       "\n",
       "[300 rows x 3 columns]"
      ]
     },
     "execution_count": 5,
     "metadata": {},
     "output_type": "execute_result"
    }
   ],
   "source": [
    "df = pd.read_csv('../data-2/test_school.csv')\n",
    "df"
   ]
  },
  {
   "cell_type": "code",
   "execution_count": 6,
   "id": "eb2a6c99-e302-410a-98e4-d4be10bbc280",
   "metadata": {},
   "outputs": [
    {
     "data": {
      "text/html": [
       "<div>\n",
       "<style scoped>\n",
       "    .dataframe tbody tr th:only-of-type {\n",
       "        vertical-align: middle;\n",
       "    }\n",
       "\n",
       "    .dataframe tbody tr th {\n",
       "        vertical-align: top;\n",
       "    }\n",
       "\n",
       "    .dataframe thead th {\n",
       "        text-align: right;\n",
       "    }\n",
       "</style>\n",
       "<table border=\"1\" class=\"dataframe\">\n",
       "  <thead>\n",
       "    <tr style=\"text-align: right;\">\n",
       "      <th></th>\n",
       "      <th>english_score</th>\n",
       "      <th>math_score</th>\n",
       "      <th>science_score</th>\n",
       "    </tr>\n",
       "  </thead>\n",
       "  <tbody>\n",
       "    <tr>\n",
       "      <th>count</th>\n",
       "      <td>300.000000</td>\n",
       "      <td>300.000000</td>\n",
       "      <td>300.00000</td>\n",
       "    </tr>\n",
       "    <tr>\n",
       "      <th>mean</th>\n",
       "      <td>62.295667</td>\n",
       "      <td>64.763333</td>\n",
       "      <td>78.75000</td>\n",
       "    </tr>\n",
       "    <tr>\n",
       "      <th>std</th>\n",
       "      <td>10.528884</td>\n",
       "      <td>14.225454</td>\n",
       "      <td>8.22301</td>\n",
       "    </tr>\n",
       "    <tr>\n",
       "      <th>min</th>\n",
       "      <td>27.000000</td>\n",
       "      <td>25.000000</td>\n",
       "      <td>45.00000</td>\n",
       "    </tr>\n",
       "    <tr>\n",
       "      <th>25%</th>\n",
       "      <td>57.500000</td>\n",
       "      <td>55.000000</td>\n",
       "      <td>72.37500</td>\n",
       "    </tr>\n",
       "    <tr>\n",
       "      <th>50%</th>\n",
       "      <td>62.500000</td>\n",
       "      <td>67.500000</td>\n",
       "      <td>80.00000</td>\n",
       "    </tr>\n",
       "    <tr>\n",
       "      <th>75%</th>\n",
       "      <td>70.000000</td>\n",
       "      <td>75.000000</td>\n",
       "      <td>85.00000</td>\n",
       "    </tr>\n",
       "    <tr>\n",
       "      <th>max</th>\n",
       "      <td>97.000000</td>\n",
       "      <td>97.500000</td>\n",
       "      <td>96.00000</td>\n",
       "    </tr>\n",
       "  </tbody>\n",
       "</table>\n",
       "</div>"
      ],
      "text/plain": [
       "       english_score  math_score  science_score\n",
       "count     300.000000  300.000000      300.00000\n",
       "mean       62.295667   64.763333       78.75000\n",
       "std        10.528884   14.225454        8.22301\n",
       "min        27.000000   25.000000       45.00000\n",
       "25%        57.500000   55.000000       72.37500\n",
       "50%        62.500000   67.500000       80.00000\n",
       "75%        70.000000   75.000000       85.00000\n",
       "max        97.000000   97.500000       96.00000"
      ]
     },
     "execution_count": 6,
     "metadata": {},
     "output_type": "execute_result"
    }
   ],
   "source": [
    "df.describe()"
   ]
  },
  {
   "cell_type": "code",
   "execution_count": 7,
   "id": "450c013f-890d-4a58-af85-11f87bf1466b",
   "metadata": {},
   "outputs": [
    {
     "data": {
      "image/png": "[encoded data removed]",
      "text/plain": [
       "<Figure size 640x480 with 1 Axes>"
      ]
     },
     "metadata": {},
     "output_type": "display_data"
    }
   ],
   "source": [
    "# 영어 점수 박스 플롯\n",
    "df['english_score'].plot(kind='box')\n",
    "plt.show()"
   ]
  },
  {
   "cell_type": "markdown",
   "id": "06b8aa16",
   "metadata": {},
   "source": [
    "- 영어 점수 분포\n",
    "    - iqr\n",
    "    - 정상범위"
   ]
  },
  {
   "cell_type": "code",
   "execution_count": 12,
   "id": "1f3d5fde-8c5d-4fee-92fa-294dde1d3089",
   "metadata": {},
   "outputs": [],
   "source": [
    "q1 = df['english_score'].quantile(0.25)\n",
    "q3 = df['english_score'].quantile(0.75)\n",
    "q1, q3\n",
    "iqr = q3 - q1"
   ]
  },
  {
   "cell_type": "code",
   "execution_count": 13,
   "id": "4683a5e0-8342-438e-872c-ea402bf85768",
   "metadata": {},
   "outputs": [
    {
     "data": {
      "text/plain": [
       "38.75"
      ]
     },
     "execution_count": 13,
     "metadata": {},
     "output_type": "execute_result"
    }
   ],
   "source": [
    "lower_whisker_en = q1 - 1.5 * iqr\n",
    "lower_whisker_en"
   ]
  },
  {
   "cell_type": "code",
   "execution_count": 14,
   "id": "e19f9b26-664b-45c1-ac30-1e24bd8a6658",
   "metadata": {},
   "outputs": [
    {
     "data": {
      "text/plain": [
       "88.75"
      ]
     },
     "execution_count": 14,
     "metadata": {},
     "output_type": "execute_result"
    }
   ],
   "source": [
    "upper_whisker_en = q3 + 1.5 * iqr\n",
    "upper_whisker_en"
   ]
  },
  {
   "cell_type": "markdown",
   "id": "6741d1e4",
   "metadata": {},
   "source": [
    "- 과학 점수 분포\n",
    "    - iqr\n",
    "    - 정상범위"
   ]
  },
  {
   "cell_type": "code",
   "execution_count": 15,
   "id": "dcafc148-9b0f-4994-a532-f8f7463dd483",
   "metadata": {},
   "outputs": [
    {
     "data": {
      "text/plain": [
       "(103.9375, 53.4375)"
      ]
     },
     "execution_count": 15,
     "metadata": {},
     "output_type": "execute_result"
    }
   ],
   "source": [
    "q1 = df['science_score'].quantile(0.25)\n",
    "q3 = df['science_score'].quantile(0.75)\n",
    "\n",
    "iqr = q3 - q1\n",
    "\n",
    "upper_whisker_sci = q3 + 1.5*iqr\n",
    "lower_whisker_sci = q1 - 1.5*iqr\n",
    "\n",
    "upper_whisker_sci, lower_whisker_sci"
   ]
  },
  {
   "cell_type": "code",
   "execution_count": 16,
   "id": "ba614239-50fa-48cf-946d-4c773b720bec",
   "metadata": {},
   "outputs": [
    {
     "data": {
      "text/plain": [
       "53.4375"
      ]
     },
     "execution_count": 16,
     "metadata": {},
     "output_type": "execute_result"
    }
   ],
   "source": []
  },
  {
   "cell_type": "markdown",
   "id": "608cd7f0-1b4f-44d8-8b05-e929398beea5",
   "metadata": {},
   "source": [
    "- 이렇듯 이론적 상한 수염(정상 범위)이 최대값보다 커지는 경우,\n",
    "    - 실제 최대값을 상한 수염(정상 범위)로 한다.\n",
    "        - 즉, 상한 수염이 103이지만, 실제 최대값 96이 실제 상한 수염이다."
   ]
  },
  {
   "cell_type": "code",
   "execution_count": null,
   "id": "3b69b5b3",
   "metadata": {},
   "outputs": [],
   "source": []
  },
  {
   "cell_type": "code",
   "execution_count": 17,
   "id": "6da0ceca-90f4-4573-8e9e-6d07872608a6",
   "metadata": {},
   "outputs": [
    {
     "data": {
      "text/plain": [
       "103.9375"
      ]
     },
     "execution_count": 17,
     "metadata": {},
     "output_type": "execute_result"
    }
   ],
   "source": []
  },
  {
   "cell_type": "markdown",
   "id": "f73f966e-0cee-41bb-90dc-774ed22bbcea",
   "metadata": {},
   "source": [
    "### (참고) 박스플롯 종합 분석 (영어, 수학, 과학 점수)\n",
    "\n",
    "##### 1. **중앙값 비교**\n",
    "\n",
    "- **과학 점수**의 중앙값이 **80점**으로 가장 높고, **수학**은 **67.5점**, **영어**는 **62.5점**으로 세 과목 중 가장 낮음.  \n",
    "\n",
    "- 과학 점수의 중앙값이 가장 높아 전반적으로 학생들이 과학에서 더 높은 성과를 나타냄.\n",
    "\n",
    "##### 2. **사분위 범위 (IQR) 비교**\n",
    "\n",
    "- **영어 점수**의 IQR(57.5~70)은 상대적으로 **좁은 범위**를 나타냄. 이는 영어 점수가 다른 과목에 비해 덜 분포되어 있으며, 중간 50%의 학생들이 비슷한 점수를 얻었음을 의미함.\n",
    "\n",
    "- **수학 점수**의 IQR(55~75)은 비교적 넓은 범위를 보이며, 학생들의 점수 분포가 넓고 변동성이 큼을 나타냄. 이는 일부 학생들이 높은 점수를, 일부는 낮은 점수를 기록했음을 의미함.\n",
    "\n",
    "- **과학 점수**는 IQR(72.375~85)로 중간 정도의 범위를 보이며, 다른 과목에 비해 **안정적**인 분포를 나타냄.\n",
    "\n",
    "##### 3. **상한/하한 수염의 범위**\n",
    "\n",
    "- **수학 점수**는 상한과 하한 수염의 범위가 가장 넓어(25점에서 97.5점) 점수 분포가 광범위함. 이는 다양한 수준의 학생들이 수학에서 나타나고 있음을 의미함.\n",
    "\n",
    "- **영어 점수**는 하한 수염이 38.75점으로, 일부 낮은 점수는 이상치로 처리됨. 반면 상한 수염은 88.75점으로 상위권의 학생들이 고르게 분포되어 있지 않음을 나타냄.\n",
    "\n",
    "- **과학 점수**는 하한 수염이 약 53.4375점으로 상대적으로 높은 편이며, 전반적으로 고른 분포를 보이고 있음. 다만 하위 일부 이상치가 존재.\n",
    "\n",
    "##### 4. **이상치 분석**\n",
    "\n",
    "- **영어 점수**는 하위 이상치가 많고, 2~30점대의 학생들이 몇 명 있음. 이는 `특정 학생들이 영어에서 유난히 낮은 점수`를 받았음을 시사함.\n",
    "\n",
    "- **수학 점수**는 이상치가 없음. 이는 학생들의 점수가 전반적으로 고르게 분포되어 있음을 나타냄.\n",
    "\n",
    "- **과학 점수**는 몇 개의 하위 이상치가 존재하며, 4~50점대의 학생들이 이상치로 표시됨.\n",
    "\n",
    "##### 5. **수학 점수의 분포**\n",
    "\n",
    "- **수학 점수**는 IQR 범위와 전체 점수 분포가 다른 두 과목에 비해 `매우 넓음.`  \n",
    "  이는 수학에서 학생들 간의 **점수 차이가 크다**는 것을 의미하며, 학생들의 `실력 차이`가 명확히 나타난다고 볼 수 있음.  \n",
    "  일부 학생은 높은 점수를 받았지만, 일부는 낮은 점수를 기록하여 학생 간 `성적 격차`가 큼.\n",
    "\n",
    "##### **최종 분석**\n",
    "\n",
    "- **영어**는 점수 분포가 좁고, 중간값이 가장 낮으며, 이상치가 많이 발생한 반면,\n",
    "\n",
    "- **수학**은 중간값이 과학보다 낮지만, IQR과 전체 범위가 넓어 학생들 간 **점수 차이가 크고 변동성**이 큼.  \n",
    "\n",
    "- **과학**은 중간값이 세 과목 중 가장 높으며, 점수 분포가 안정적이면서도 일부 하위 이상치가 존재함.\n",
    "\n",
    "\n",
    "\n",
    "결론적으로, 수학 점수는 학생들 간의 점수 차이가 가장 크게 나타나며, 상위권과 하위권 학생들이 고르게 분포된 반면, 영어는 비교적 고르게 분포된 학생들이 많지만 일부 낮은 점수가 눈에 띔. 과학은 중앙값이 가장 높고, 점수 분포가 안정적이면서도 일부 낮은 이상치가 관찰됨."
   ]
  },
  {
   "cell_type": "code",
   "execution_count": 16,
   "id": "8a0d1e94-9cb4-4739-b7bb-960499aab198",
   "metadata": {},
   "outputs": [
    {
     "data": {
      "image/png": "[encoded data removed]",
      "text/plain": [
       "<Figure size 640x480 with 1 Axes>"
      ]
     },
     "metadata": {},
     "output_type": "display_data"
    }
   ],
   "source": [
    "df.plot(kind='box')\n",
    "plt.show()"
   ]
  },
  {
   "cell_type": "markdown",
   "id": "cf031d11-eed0-43ba-b473-147d2df9b8ee",
   "metadata": {},
   "source": [
    "##### (틈새 개념) Pandas에서 여러 열 선택 시 `[[ ]]` 사용 이유\n",
    "\n",
    "1. **단일 열 선택 (1차원)**  \n",
    "   `df['column_name']`  \n",
    "   - 한 개의 열을 선택할 때, **Series(1차원)** 객체 반환.\n",
    "\n",
    "2. **여러 열 선택 (2차원)**  \n",
    "   `df[['column1', 'column2']]`  \n",
    "   - 여러 개의 열을 선택할 때, **DataFrame(2차원)** 객체 반환.  \n",
    "   - 리스트 형태로 열 이름을 지정해야 하므로 대괄호가 두 겹으로 사용됨.\n",
    "      - 1개의 열을 선택할 때도, [[]]을 사용하면, 2차원 pd.DataFrame 반환값을 얻을 수 있다."
   ]
  },
  {
   "cell_type": "code",
   "execution_count": 11,
   "id": "878551f8-0462-4917-a54a-97760c4836fa",
   "metadata": {},
   "outputs": [
    {
     "data": {
      "image/png": "[encoded data removed]",
      "text/plain": [
       "<Figure size 640x480 with 1 Axes>"
      ]
     },
     "metadata": {},
     "output_type": "display_data"
    }
   ],
   "source": []
  }
 ],
 "metadata": {
  "kernelspec": {
   "display_name": "base",
   "language": "python",
   "name": "python3"
  },
  "language_info": {
   "codemirror_mode": {
    "name": "ipython",
    "version": 3
   },
   "file_extension": ".py",
   "mimetype": "text/x-python",
   "name": "python",
   "nbconvert_exporter": "python",
   "pygments_lexer": "ipython3",
   "version": "3.12.4"
  }
 },
 "nbformat": 4,
 "nbformat_minor": 5
}
