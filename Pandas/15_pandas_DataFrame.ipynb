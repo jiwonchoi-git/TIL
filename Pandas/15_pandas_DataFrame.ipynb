{
 "cells": [
  {
   "cell_type": "markdown",
   "id": "4296003f-77af-4fe6-b1d4-06116ccfa0c4",
   "metadata": {},
   "source": [
    "# pandas와 DataFrame"
   ]
  },
  {
   "cell_type": "markdown",
   "id": "42c600ba-8835-4e01-ab4e-182dd8b99387",
   "metadata": {},
   "source": [
    "## 1. 라이브러리 불러오기\n",
    "- Pandas 라이브러리를 불러오고, 보통 pd로 줄여 사용합니다."
   ]
  },
  {
   "cell_type": "code",
   "execution_count": 2,
   "id": "fde161b4-6d6f-4cc2-baf0-353aa8cd653f",
   "metadata": {},
   "outputs": [
    {
     "name": "stdout",
     "output_type": "stream",
     "text": [
      "Defaulting to user installation because normal site-packages is not writeable\n",
      "Collecting pandas\n",
      "  Downloading pandas-2.2.3-cp39-cp39-macosx_11_0_arm64.whl (11.3 MB)\n",
      "\u001b[K     |████████████████████████████████| 11.3 MB 12.6 MB/s eta 0:00:01\n",
      "\u001b[?25hCollecting pytz>=2020.1\n",
      "  Downloading pytz-2024.2-py2.py3-none-any.whl (508 kB)\n",
      "\u001b[K     |████████████████████████████████| 508 kB 11.8 MB/s eta 0:00:01\n",
      "\u001b[?25hRequirement already satisfied: python-dateutil>=2.8.2 in /Users/choijiwon/Library/Python/3.9/lib/python/site-packages (from pandas) (2.9.0.post0)\n",
      "Collecting tzdata>=2022.7\n",
      "  Downloading tzdata-2024.2-py2.py3-none-any.whl (346 kB)\n",
      "\u001b[K     |████████████████████████████████| 346 kB 11.8 MB/s eta 0:00:01\n",
      "\u001b[?25hCollecting numpy>=1.22.4\n",
      "  Downloading numpy-2.0.2-cp39-cp39-macosx_14_0_arm64.whl (5.3 MB)\n",
      "\u001b[K     |████████████████████████████████| 5.3 MB 15.9 MB/s eta 0:00:01\n",
      "\u001b[?25hRequirement already satisfied: six>=1.5 in /Library/Developer/CommandLineTools/Library/Frameworks/Python3.framework/Versions/3.9/lib/python3.9/site-packages (from python-dateutil>=2.8.2->pandas) (1.15.0)\n",
      "Installing collected packages: tzdata, pytz, numpy, pandas\n",
      "Successfully installed numpy-2.0.2 pandas-2.2.3 pytz-2024.2 tzdata-2024.2\n",
      "\u001b[33mWARNING: You are using pip version 21.2.4; however, version 24.3.1 is available.\n",
      "You should consider upgrading via the '/Library/Developer/CommandLineTools/usr/bin/python3 -m pip install --upgrade pip' command.\u001b[0m\n"
     ]
    }
   ],
   "source": [
    "!pip3 install pandas\n",
    "\n",
    "import pandas as pd\n",
    "import numpy as np"
   ]
  },
  {
   "cell_type": "markdown",
   "id": "df8b9f5a-7083-405f-9098-dc8161960717",
   "metadata": {},
   "source": [
    "## 2. DataFrame 만들기\n",
    "- `pd.DataFrame()`을 사용해 데이터프레임을 생성합니다. \n",
    "- 딕셔너리를 넘겨줘서 `표 형식`으로 데이터를 만들 수도 있습니다."
   ]
  },
  {
   "cell_type": "markdown",
   "id": "97c2b6be-a39e-4fd5-b428-dc6542034430",
   "metadata": {},
   "source": [
    "1. 리스트를 이용해서 만들기"
   ]
  },
  {
   "cell_type": "code",
   "execution_count": 4,
   "id": "179f20c8-8d07-41b5-ac60-02d08041c2b4",
   "metadata": {},
   "outputs": [
    {
     "data": {
      "text/html": [
       "<div>\n",
       "<style scoped>\n",
       "    .dataframe tbody tr th:only-of-type {\n",
       "        vertical-align: middle;\n",
       "    }\n",
       "\n",
       "    .dataframe tbody tr th {\n",
       "        vertical-align: top;\n",
       "    }\n",
       "\n",
       "    .dataframe thead th {\n",
       "        text-align: right;\n",
       "    }\n",
       "</style>\n",
       "<table border=\"1\" class=\"dataframe\">\n",
       "  <thead>\n",
       "    <tr style=\"text-align: right;\">\n",
       "      <th></th>\n",
       "      <th>categoty</th>\n",
       "      <th>quantity</th>\n",
       "      <th>price</th>\n",
       "    </tr>\n",
       "  </thead>\n",
       "  <tbody>\n",
       "    <tr>\n",
       "      <th>0</th>\n",
       "      <td>skirt</td>\n",
       "      <td>10</td>\n",
       "      <td>30000</td>\n",
       "    </tr>\n",
       "    <tr>\n",
       "      <th>1</th>\n",
       "      <td>sweater</td>\n",
       "      <td>15</td>\n",
       "      <td>60000</td>\n",
       "    </tr>\n",
       "    <tr>\n",
       "      <th>2</th>\n",
       "      <td>coat</td>\n",
       "      <td>6</td>\n",
       "      <td>95000</td>\n",
       "    </tr>\n",
       "    <tr>\n",
       "      <th>3</th>\n",
       "      <td>jeans</td>\n",
       "      <td>11</td>\n",
       "      <td>35000</td>\n",
       "    </tr>\n",
       "  </tbody>\n",
       "</table>\n",
       "</div>"
      ],
      "text/plain": [
       "  categoty  quantity  price\n",
       "0    skirt        10  30000\n",
       "1  sweater        15  60000\n",
       "2     coat         6  95000\n",
       "3    jeans        11  35000"
      ]
     },
     "execution_count": 4,
     "metadata": {},
     "output_type": "execute_result"
    }
   ],
   "source": [
    "two_dimensional_list = [\n",
    "    ['skirt', 10, 30000],\n",
    "    ['sweater', 15, 60000],\n",
    "    ['coat', 6, 95000],\n",
    "    ['jeans', 11, 35000]\n",
    "]\n",
    "\n",
    "list_df = pd.DataFrame(two_dimensional_list, columns=['categoty', 'quantity', 'price'])\n",
    "list_df"
   ]
  },
  {
   "cell_type": "markdown",
   "id": "ca4d5d97-f3dd-4526-920a-6e532ab411fe",
   "metadata": {},
   "source": [
    "2. array를 이용해서 만들기(list와 동일)"
   ]
  },
  {
   "cell_type": "code",
   "execution_count": 6,
   "id": "7c7952a6-9f4f-4e4a-9ca0-cfd457085b24",
   "metadata": {},
   "outputs": [
    {
     "data": {
      "text/html": [
       "<div>\n",
       "<style scoped>\n",
       "    .dataframe tbody tr th:only-of-type {\n",
       "        vertical-align: middle;\n",
       "    }\n",
       "\n",
       "    .dataframe tbody tr th {\n",
       "        vertical-align: top;\n",
       "    }\n",
       "\n",
       "    .dataframe thead th {\n",
       "        text-align: right;\n",
       "    }\n",
       "</style>\n",
       "<table border=\"1\" class=\"dataframe\">\n",
       "  <thead>\n",
       "    <tr style=\"text-align: right;\">\n",
       "      <th></th>\n",
       "      <th>category</th>\n",
       "      <th>quantity</th>\n",
       "      <th>price</th>\n",
       "    </tr>\n",
       "  </thead>\n",
       "  <tbody>\n",
       "    <tr>\n",
       "      <th>0</th>\n",
       "      <td>skirt</td>\n",
       "      <td>10</td>\n",
       "      <td>30000</td>\n",
       "    </tr>\n",
       "    <tr>\n",
       "      <th>1</th>\n",
       "      <td>sweater</td>\n",
       "      <td>15</td>\n",
       "      <td>60000</td>\n",
       "    </tr>\n",
       "    <tr>\n",
       "      <th>2</th>\n",
       "      <td>coat</td>\n",
       "      <td>6</td>\n",
       "      <td>95000</td>\n",
       "    </tr>\n",
       "    <tr>\n",
       "      <th>3</th>\n",
       "      <td>jeans</td>\n",
       "      <td>11</td>\n",
       "      <td>35000</td>\n",
       "    </tr>\n",
       "  </tbody>\n",
       "</table>\n",
       "</div>"
      ],
      "text/plain": [
       "  category quantity  price\n",
       "0    skirt       10  30000\n",
       "1  sweater       15  60000\n",
       "2     coat        6  95000\n",
       "3    jeans       11  35000"
      ]
     },
     "execution_count": 6,
     "metadata": {},
     "output_type": "execute_result"
    }
   ],
   "source": [
    "two_dimensional_list = [\n",
    "    ['skirt', 10, 30000],\n",
    "    ['sweater', 15, 60000],\n",
    "    ['coat', 6, 95000],\n",
    "    ['jeans', 11, 35000]\n",
    "]\n",
    "two_dimensional_array = np.array(two_dimensional_list)\n",
    "\n",
    "array_df = pd.DataFrame(two_dimensional_array, columns=['category', 'quantity', 'price'])\n",
    "array_df"
   ]
  },
  {
   "cell_type": "markdown",
   "id": "139a900a-93a0-49a0-8b2f-7e500a946a3f",
   "metadata": {},
   "source": [
    "3. 딕셔너리를 이용해서 만들기"
   ]
  },
  {
   "cell_type": "code",
   "execution_count": 5,
   "id": "a6b0b2e0-a120-4cc8-ac07-9264970f8a6f",
   "metadata": {},
   "outputs": [
    {
     "data": {
      "text/html": [
       "<div>\n",
       "<style scoped>\n",
       "    .dataframe tbody tr th:only-of-type {\n",
       "        vertical-align: middle;\n",
       "    }\n",
       "\n",
       "    .dataframe tbody tr th {\n",
       "        vertical-align: top;\n",
       "    }\n",
       "\n",
       "    .dataframe thead th {\n",
       "        text-align: right;\n",
       "    }\n",
       "</style>\n",
       "<table border=\"1\" class=\"dataframe\">\n",
       "  <thead>\n",
       "    <tr style=\"text-align: right;\">\n",
       "      <th></th>\n",
       "      <th>category</th>\n",
       "      <th>quantity</th>\n",
       "      <th>price</th>\n",
       "    </tr>\n",
       "  </thead>\n",
       "  <tbody>\n",
       "    <tr>\n",
       "      <th>0</th>\n",
       "      <td>skirt</td>\n",
       "      <td>10</td>\n",
       "      <td>30000</td>\n",
       "    </tr>\n",
       "    <tr>\n",
       "      <th>1</th>\n",
       "      <td>sweater</td>\n",
       "      <td>15</td>\n",
       "      <td>60000</td>\n",
       "    </tr>\n",
       "    <tr>\n",
       "      <th>2</th>\n",
       "      <td>coat</td>\n",
       "      <td>6</td>\n",
       "      <td>95000</td>\n",
       "    </tr>\n",
       "    <tr>\n",
       "      <th>3</th>\n",
       "      <td>jeans</td>\n",
       "      <td>11</td>\n",
       "      <td>35000</td>\n",
       "    </tr>\n",
       "  </tbody>\n",
       "</table>\n",
       "</div>"
      ],
      "text/plain": [
       "  category  quantity  price\n",
       "0    skirt        10  30000\n",
       "1  sweater        15  60000\n",
       "2     coat         6  95000\n",
       "3    jeans        11  35000"
      ]
     },
     "execution_count": 5,
     "metadata": {},
     "output_type": "execute_result"
    }
   ],
   "source": [
    "dict_list = [\n",
    "    {'category': 'skirt', 'quantity': 10, 'price': 30000},\n",
    "    {'category': 'sweater', 'quantity': 15, 'price': 60000},\n",
    "    {'category': 'coat', 'quantity': 6, 'price': 95000},\n",
    "    {'category': 'jeans', 'quantity': 11, 'price': 35000}\n",
    "]\n",
    "\n",
    "df4 = pd.DataFrame(dict_list)\n",
    "df4"
   ]
  },
  {
   "cell_type": "markdown",
   "id": "be933d62",
   "metadata": {},
   "source": [
    "- 이게 더 직관적!"
   ]
  },
  {
   "cell_type": "code",
   "execution_count": 7,
   "id": "0f56f837-9a06-4500-ad5b-8b3d2c72324c",
   "metadata": {},
   "outputs": [
    {
     "data": {
      "text/html": [
       "<div>\n",
       "<style scoped>\n",
       "    .dataframe tbody tr th:only-of-type {\n",
       "        vertical-align: middle;\n",
       "    }\n",
       "\n",
       "    .dataframe tbody tr th {\n",
       "        vertical-align: top;\n",
       "    }\n",
       "\n",
       "    .dataframe thead th {\n",
       "        text-align: right;\n",
       "    }\n",
       "</style>\n",
       "<table border=\"1\" class=\"dataframe\">\n",
       "  <thead>\n",
       "    <tr style=\"text-align: right;\">\n",
       "      <th></th>\n",
       "      <th>category</th>\n",
       "      <th>quantity</th>\n",
       "      <th>price</th>\n",
       "    </tr>\n",
       "  </thead>\n",
       "  <tbody>\n",
       "    <tr>\n",
       "      <th>0</th>\n",
       "      <td>skirt</td>\n",
       "      <td>10</td>\n",
       "      <td>30000</td>\n",
       "    </tr>\n",
       "    <tr>\n",
       "      <th>1</th>\n",
       "      <td>sweater</td>\n",
       "      <td>15</td>\n",
       "      <td>60000</td>\n",
       "    </tr>\n",
       "    <tr>\n",
       "      <th>2</th>\n",
       "      <td>coat</td>\n",
       "      <td>6</td>\n",
       "      <td>95000</td>\n",
       "    </tr>\n",
       "    <tr>\n",
       "      <th>3</th>\n",
       "      <td>jeans</td>\n",
       "      <td>11</td>\n",
       "      <td>35000</td>\n",
       "    </tr>\n",
       "  </tbody>\n",
       "</table>\n",
       "</div>"
      ],
      "text/plain": [
       "  category  quantity  price\n",
       "0    skirt        10  30000\n",
       "1  sweater        15  60000\n",
       "2     coat         6  95000\n",
       "3    jeans        11  35000"
      ]
     },
     "execution_count": 7,
     "metadata": {},
     "output_type": "execute_result"
    }
   ],
   "source": [
    "df = pd.DataFrame({\n",
    "    'category': ['skirt', 'sweater', 'coat', 'jeans'],\n",
    "    'quantity': [10, 15, 6, 11],\t\t\t\t\t\t\t\t\t \n",
    "    'price': [30000, 60000, 95000, 35000]\n",
    "})\n",
    "df"
   ]
  },
  {
   "cell_type": "markdown",
   "id": "f0ef702c-5391-40b1-a047-77ebb2ba72cf",
   "metadata": {},
   "source": [
    "## 3. Column과 Row 설명\n",
    "- `Column(세로 줄)`: 각 column의 이름을 지정할 수 있습니다.\n",
    "- `Row(가로 줄)`: 각각의 데이터 항목\n",
    "- `Index(인덱스)`: 왼쪽에 있는 숫자(0, 1, 2, 3)는 각 row의 인덱스"
   ]
  },
  {
   "cell_type": "markdown",
   "id": "c7272d53-fef4-4fe4-90cd-3cf45c0b2952",
   "metadata": {},
   "source": [
    "## 4. 간단한 연산\n",
    "- Pandas는 `numpy`를 기반으로 만들어졌기 때문에, **numpy에서 사용한 연산이랑 비슷하게** 사용할 수 있습니다."
   ]
  },
  {
   "cell_type": "markdown",
   "id": "43147320-7452-4676-87ac-f21af674b79c",
   "metadata": {},
   "source": [
    "- 특정 컬럼 선택\n",
    "    - `df['quantity']`를 하면 해당 컬럼만 가져옵니다."
   ]
  },
  {
   "cell_type": "code",
   "execution_count": 8,
   "id": "b49ff7b6-345b-4f74-ae82-9c5da87109b1",
   "metadata": {},
   "outputs": [
    {
     "data": {
      "text/html": [
       "<div>\n",
       "<style scoped>\n",
       "    .dataframe tbody tr th:only-of-type {\n",
       "        vertical-align: middle;\n",
       "    }\n",
       "\n",
       "    .dataframe tbody tr th {\n",
       "        vertical-align: top;\n",
       "    }\n",
       "\n",
       "    .dataframe thead th {\n",
       "        text-align: right;\n",
       "    }\n",
       "</style>\n",
       "<table border=\"1\" class=\"dataframe\">\n",
       "  <thead>\n",
       "    <tr style=\"text-align: right;\">\n",
       "      <th></th>\n",
       "      <th>category</th>\n",
       "      <th>quantity</th>\n",
       "      <th>price</th>\n",
       "    </tr>\n",
       "  </thead>\n",
       "  <tbody>\n",
       "    <tr>\n",
       "      <th>0</th>\n",
       "      <td>skirt</td>\n",
       "      <td>10</td>\n",
       "      <td>30000</td>\n",
       "    </tr>\n",
       "    <tr>\n",
       "      <th>1</th>\n",
       "      <td>sweater</td>\n",
       "      <td>15</td>\n",
       "      <td>60000</td>\n",
       "    </tr>\n",
       "    <tr>\n",
       "      <th>2</th>\n",
       "      <td>coat</td>\n",
       "      <td>6</td>\n",
       "      <td>95000</td>\n",
       "    </tr>\n",
       "    <tr>\n",
       "      <th>3</th>\n",
       "      <td>jeans</td>\n",
       "      <td>11</td>\n",
       "      <td>35000</td>\n",
       "    </tr>\n",
       "  </tbody>\n",
       "</table>\n",
       "</div>"
      ],
      "text/plain": [
       "  category  quantity  price\n",
       "0    skirt        10  30000\n",
       "1  sweater        15  60000\n",
       "2     coat         6  95000\n",
       "3    jeans        11  35000"
      ]
     },
     "execution_count": 8,
     "metadata": {},
     "output_type": "execute_result"
    }
   ],
   "source": [
    "df"
   ]
  },
  {
   "cell_type": "code",
   "execution_count": 10,
   "id": "a06888bf",
   "metadata": {},
   "outputs": [
    {
     "data": {
      "text/plain": [
       "0    10\n",
       "1    15\n",
       "2     6\n",
       "3    11\n",
       "Name: quantity, dtype: int64"
      ]
     },
     "execution_count": 10,
     "metadata": {},
     "output_type": "execute_result"
    }
   ],
   "source": [
    "# 1차원\n",
    "df['quantity']"
   ]
  },
  {
   "cell_type": "code",
   "execution_count": 9,
   "id": "834d814e",
   "metadata": {},
   "outputs": [
    {
     "data": {
      "text/html": [
       "<div>\n",
       "<style scoped>\n",
       "    .dataframe tbody tr th:only-of-type {\n",
       "        vertical-align: middle;\n",
       "    }\n",
       "\n",
       "    .dataframe tbody tr th {\n",
       "        vertical-align: top;\n",
       "    }\n",
       "\n",
       "    .dataframe thead th {\n",
       "        text-align: right;\n",
       "    }\n",
       "</style>\n",
       "<table border=\"1\" class=\"dataframe\">\n",
       "  <thead>\n",
       "    <tr style=\"text-align: right;\">\n",
       "      <th></th>\n",
       "      <th>quantity</th>\n",
       "    </tr>\n",
       "  </thead>\n",
       "  <tbody>\n",
       "    <tr>\n",
       "      <th>0</th>\n",
       "      <td>10</td>\n",
       "    </tr>\n",
       "    <tr>\n",
       "      <th>1</th>\n",
       "      <td>15</td>\n",
       "    </tr>\n",
       "    <tr>\n",
       "      <th>2</th>\n",
       "      <td>6</td>\n",
       "    </tr>\n",
       "    <tr>\n",
       "      <th>3</th>\n",
       "      <td>11</td>\n",
       "    </tr>\n",
       "  </tbody>\n",
       "</table>\n",
       "</div>"
      ],
      "text/plain": [
       "   quantity\n",
       "0        10\n",
       "1        15\n",
       "2         6\n",
       "3        11"
      ]
     },
     "execution_count": 9,
     "metadata": {},
     "output_type": "execute_result"
    }
   ],
   "source": [
    "# 2차원\n",
    "df[['quantity']]"
   ]
  },
  {
   "cell_type": "markdown",
   "id": "4aa0f7fc-3f27-4633-8a08-4b4d3577c3b0",
   "metadata": {},
   "source": [
    "- `pd.Series`\n",
    "\n",
    "    - 컬럼 하나를 선택하면 Pandas DataFrame에서 Pandas Series로 변환됩니다. Series는 `1차원 데이터를 다루는 자료형`입니다.\n",
    "    - 마치 numpy 1차원 array와 같다."
   ]
  },
  {
   "cell_type": "code",
   "execution_count": 11,
   "id": "04daf6a2-4a63-4196-bce1-520b31ec74e2",
   "metadata": {},
   "outputs": [
    {
     "data": {
      "text/plain": [
       "pandas.core.series.Series"
      ]
     },
     "execution_count": 11,
     "metadata": {},
     "output_type": "execute_result"
    }
   ],
   "source": [
    "  # pandas.core.series.Series\n",
    "type(df['quantity'])"
   ]
  },
  {
   "cell_type": "markdown",
   "id": "336585e7-b836-4d94-b497-25ad04d6fde0",
   "metadata": {},
   "source": [
    "- 기본 통계 연산\n",
    "    - 평균, 합계, 최솟값 등을 쉽게 구할 수 있습니다."
   ]
  },
  {
   "cell_type": "code",
   "execution_count": 12,
   "id": "5c54414a-805a-48b3-90fd-b8535d15e816",
   "metadata": {},
   "outputs": [
    {
     "name": "stdout",
     "output_type": "stream",
     "text": [
      "10.5\n",
      "42\n",
      "6\n"
     ]
    }
   ],
   "source": [
    "print(df['quantity'].mean())  # 평균값\n",
    "print(df['quantity'].sum())   # 합계\n",
    "print(df['quantity'].min())   # 최솟값"
   ]
  },
  {
   "cell_type": "markdown",
   "id": "885edf1b-8a82-4201-8fb2-8c74ae856f4e",
   "metadata": {},
   "source": [
    "- `Series 간 연산 (like numpy)`\n",
    "\n",
    "    - 두 개의 Series 간 연산도 가능합니다. 예를 들어, quantity와 price를 곱하면 각 항목의 총 판매량을 구할 수 있습니다.\n",
    "    - `element-wise`하게 곱할 수 있다."
   ]
  },
  {
   "cell_type": "code",
   "execution_count": 13,
   "id": "d7394fd3-1840-4431-a831-1fe0f2c45e4f",
   "metadata": {},
   "outputs": [
    {
     "data": {
      "text/plain": [
       "0    300000\n",
       "1    900000\n",
       "2    570000\n",
       "3    385000\n",
       "dtype: int64"
      ]
     },
     "execution_count": 13,
     "metadata": {},
     "output_type": "execute_result"
    }
   ],
   "source": [
    "df['quantity'] * df['price']"
   ]
  },
  {
   "cell_type": "markdown",
   "id": "7c3162ac-c51c-4b04-b6d8-5a0b1f4c2649",
   "metadata": {},
   "source": [
    "* 이 코드를 실행하면 각 인덱스의 값끼리 곱해진 결과가 나옵니다. 항목별 수량과 가격을 곱해 총 판매량을 계산하는 방식입니다."
   ]
  }
 ],
 "metadata": {
  "kernelspec": {
   "display_name": "Numpy",
   "language": "python",
   "name": "python3"
  },
  "language_info": {
   "codemirror_mode": {
    "name": "ipython",
    "version": 3
   },
   "file_extension": ".py",
   "mimetype": "text/x-python",
   "name": "python",
   "nbconvert_exporter": "python",
   "pygments_lexer": "ipython3",
   "version": "3.8.10"
  }
 },
 "nbformat": 4,
 "nbformat_minor": 5
}
