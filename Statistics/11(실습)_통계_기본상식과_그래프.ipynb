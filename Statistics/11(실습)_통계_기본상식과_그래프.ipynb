{
 "cells": [
  {
   "cell_type": "markdown",
   "id": "8f9553f1-4d79-4fe0-81f6-3a517600f624",
   "metadata": {},
   "source": [
    "# 통계 기본 상식과 그래프"
   ]
  },
  {
   "cell_type": "markdown",
   "id": "0623dd7a-4749-4bbb-87e7-697f0c48284c",
   "metadata": {},
   "source": [
    "## 1. 통계 기본 상식 퀴즈"
   ]
  },
  {
   "cell_type": "markdown",
   "id": "4219a62d-8907-44c7-8723-13dcdad95205",
   "metadata": {
    "jp-MarkdownHeadingCollapsed": true,
    "tags": []
   },
   "source": [
    "### 질문 1. \n",
    "- 동욱이는 이번 시험에서 수학은 85점, 과학은 56점, 영어는 90점을 맞았다고 합니다. 다음 중 동욱이의 점수와 관련해서 옳지 않은 것을 고르세요.\n",
    "    1. 동욱이의 수학 점수는 IQR 안에 포함되어 있지 않다.\n",
    "    2. 동욱이의 영어 점수는 상위 25%에 해당한다.\n",
    "    3. 동욱이의 과학 점수는 IQR 안에 포함되어 있다.\n",
    "    4. 동욱이의 과학 점수는 평균보다 낮다."
   ]
  },
  {
   "cell_type": "code",
   "execution_count": 3,
   "id": "33679e51-9f1c-4190-a3e8-cd22aaac7a66",
   "metadata": {},
   "outputs": [
    {
     "data": {
      "text/html": [
       "<div>\n",
       "<style scoped>\n",
       "    .dataframe tbody tr th:only-of-type {\n",
       "        vertical-align: middle;\n",
       "    }\n",
       "\n",
       "    .dataframe tbody tr th {\n",
       "        vertical-align: top;\n",
       "    }\n",
       "\n",
       "    .dataframe thead th {\n",
       "        text-align: right;\n",
       "    }\n",
       "</style>\n",
       "<table border=\"1\" class=\"dataframe\">\n",
       "  <thead>\n",
       "    <tr style=\"text-align: right;\">\n",
       "      <th></th>\n",
       "      <th>math_score</th>\n",
       "      <th>science_score</th>\n",
       "      <th>english_score</th>\n",
       "    </tr>\n",
       "  </thead>\n",
       "  <tbody>\n",
       "    <tr>\n",
       "      <th>count</th>\n",
       "      <td>200.000000</td>\n",
       "      <td>200.00000</td>\n",
       "      <td>200.000000</td>\n",
       "    </tr>\n",
       "    <tr>\n",
       "      <th>mean</th>\n",
       "      <td>52.830000</td>\n",
       "      <td>54.98750</td>\n",
       "      <td>77.547500</td>\n",
       "    </tr>\n",
       "    <tr>\n",
       "      <th>std</th>\n",
       "      <td>12.961912</td>\n",
       "      <td>9.42178</td>\n",
       "      <td>9.165507</td>\n",
       "    </tr>\n",
       "    <tr>\n",
       "      <th>min</th>\n",
       "      <td>15.000000</td>\n",
       "      <td>20.00000</td>\n",
       "      <td>25.000000</td>\n",
       "    </tr>\n",
       "    <tr>\n",
       "      <th>25%</th>\n",
       "      <td>45.000000</td>\n",
       "      <td>48.00000</td>\n",
       "      <td>72.000000</td>\n",
       "    </tr>\n",
       "    <tr>\n",
       "      <th>50%</th>\n",
       "      <td>52.500000</td>\n",
       "      <td>56.00000</td>\n",
       "      <td>78.000000</td>\n",
       "    </tr>\n",
       "    <tr>\n",
       "      <th>75%</th>\n",
       "      <td>60.000000</td>\n",
       "      <td>62.00000</td>\n",
       "      <td>84.000000</td>\n",
       "    </tr>\n",
       "    <tr>\n",
       "      <th>max</th>\n",
       "      <td>95.000000</td>\n",
       "      <td>90.00000</td>\n",
       "      <td>94.000000</td>\n",
       "    </tr>\n",
       "  </tbody>\n",
       "</table>\n",
       "</div>"
      ],
      "text/plain": [
       "       math_score  science_score  english_score\n",
       "count  200.000000      200.00000     200.000000\n",
       "mean    52.830000       54.98750      77.547500\n",
       "std     12.961912        9.42178       9.165507\n",
       "min     15.000000       20.00000      25.000000\n",
       "25%     45.000000       48.00000      72.000000\n",
       "50%     52.500000       56.00000      78.000000\n",
       "75%     60.000000       62.00000      84.000000\n",
       "max     95.000000       90.00000      94.000000"
      ]
     },
     "execution_count": 3,
     "metadata": {},
     "output_type": "execute_result"
    }
   ],
   "source": [
    "import pandas as pd\n",
    "\n",
    "df_exam = pd.read_csv('../data-2/exam.csv')\n",
    "df_exam.describe()"
   ]
  },
  {
   "cell_type": "code",
   "execution_count": 18,
   "id": "0437b84c-1560-453b-980a-f9849f632442",
   "metadata": {},
   "outputs": [
    {
     "data": {
      "text/plain": [
       "(45.0, 60.0, 15.0)"
      ]
     },
     "execution_count": 18,
     "metadata": {},
     "output_type": "execute_result"
    }
   ],
   "source": [
    "# iqr = q3 - q1\n",
    "q3 = df_exam['math_score'].quantile(0.75)\n",
    "q1 = df_exam['math_score'].quantile(0.25)\n",
    "\n",
    "iqr = q3 - q1\n",
    "q1, q3, iqr"
   ]
  },
  {
   "cell_type": "markdown",
   "id": "4d09c0a0-6861-436d-ba64-5b06048726f4",
   "metadata": {},
   "source": [
    "> 1. O\n",
    "> - 동욱의 수학 점수는 85점으로 iqr의 범위인 45~60 사이에 해당되지 않는다."
   ]
  },
  {
   "cell_type": "code",
   "execution_count": 19,
   "id": "a3fcca8c-6a10-4d72-8383-471ecf55da3e",
   "metadata": {},
   "outputs": [
    {
     "data": {
      "text/plain": [
       "84.0"
      ]
     },
     "execution_count": 19,
     "metadata": {},
     "output_type": "execute_result"
    }
   ],
   "source": [
    "df_exam['english_score'].quantile(0.75) #상위 25%"
   ]
  },
  {
   "cell_type": "markdown",
   "id": "44cad481-db86-4e23-8835-55209c7bf995",
   "metadata": {},
   "source": [
    "> 2. O\n",
    "> - 동욱의 영어 점수는 90점으로 상위 25% 라인인 84점 보다 높기 때문에 상위 25% 이내이다. "
   ]
  },
  {
   "cell_type": "code",
   "execution_count": 7,
   "id": "b0f1e503-138c-450c-a910-3a1aa63eec34",
   "metadata": {},
   "outputs": [
    {
     "data": {
      "text/plain": [
       "(48.0, 62.0, 14.0)"
      ]
     },
     "execution_count": 7,
     "metadata": {},
     "output_type": "execute_result"
    }
   ],
   "source": [
    "# iqr = q3 - q1\n"
   ]
  },
  {
   "cell_type": "markdown",
   "id": "5a7e0d96-71b4-488d-b043-6e2d16722145",
   "metadata": {},
   "source": [
    "> 3. O\n",
    "> - 동욱의 과학 점수는 56점으로 iqr의 범위인 48~62 사이에 해당된다."
   ]
  },
  {
   "cell_type": "code",
   "execution_count": 20,
   "id": "b2e6d4c0-8e86-4768-9635-c74389e86ca3",
   "metadata": {},
   "outputs": [
    {
     "data": {
      "text/plain": [
       "54.9875"
      ]
     },
     "execution_count": 20,
     "metadata": {},
     "output_type": "execute_result"
    }
   ],
   "source": [
    "df_exam['science_score'].mean()"
   ]
  },
  {
   "cell_type": "markdown",
   "id": "3c650f2a-3b00-4069-852f-564a29132423",
   "metadata": {},
   "source": [
    "> 4. X\n",
    "> - 동욱의 과학 점수는 56점으로 평균 54.9875 보다 높다."
   ]
  },
  {
   "cell_type": "markdown",
   "id": "efe9e551-0dea-4f96-b91e-fa0ffa46e335",
   "metadata": {
    "jp-MarkdownHeadingCollapsed": true,
    "tags": []
   },
   "source": [
    "### 질문 2.\n",
    "- 다음 학기부터 제2외국어 수업을 시작한다고 합니다. 그래서 이번 시험이 끝나고 학생별로 어떤 외국어 과목을 희망하는지 조사를 했다고 하는데요. 학생들이 가장 많이 고른 과목은 무엇인지 영어로 써 주세요."
   ]
  },
  {
   "cell_type": "code",
   "execution_count": 22,
   "id": "88a541d8-8b6f-4e91-b510-4f196153e0bf",
   "metadata": {},
   "outputs": [
    {
     "data": {
      "text/plain": [
       "second_lang\n",
       "Chinese     65\n",
       "Japanese    43\n",
       "French      38\n",
       "German      37\n",
       "Russian     17\n",
       "Name: count, dtype: int64"
      ]
     },
     "execution_count": 22,
     "metadata": {},
     "output_type": "execute_result"
    }
   ],
   "source": [
    "# value_counts()\n",
    "df_exam.value_counts('second_lang')"
   ]
  },
  {
   "cell_type": "code",
   "execution_count": 26,
   "id": "724b6bf5-72a0-449c-9810-607ed9b338f0",
   "metadata": {},
   "outputs": [
    {
     "data": {
      "text/html": [
       "<div>\n",
       "<style scoped>\n",
       "    .dataframe tbody tr th:only-of-type {\n",
       "        vertical-align: middle;\n",
       "    }\n",
       "\n",
       "    .dataframe tbody tr th {\n",
       "        vertical-align: top;\n",
       "    }\n",
       "\n",
       "    .dataframe thead th {\n",
       "        text-align: right;\n",
       "    }\n",
       "</style>\n",
       "<table border=\"1\" class=\"dataframe\">\n",
       "  <thead>\n",
       "    <tr style=\"text-align: right;\">\n",
       "      <th></th>\n",
       "      <th>math_score</th>\n",
       "      <th>science_score</th>\n",
       "      <th>english_score</th>\n",
       "      <th>second_lang</th>\n",
       "    </tr>\n",
       "  </thead>\n",
       "  <tbody>\n",
       "    <tr>\n",
       "      <th>count</th>\n",
       "      <td>200.000000</td>\n",
       "      <td>200.00000</td>\n",
       "      <td>200.000000</td>\n",
       "      <td>200</td>\n",
       "    </tr>\n",
       "    <tr>\n",
       "      <th>unique</th>\n",
       "      <td>NaN</td>\n",
       "      <td>NaN</td>\n",
       "      <td>NaN</td>\n",
       "      <td>5</td>\n",
       "    </tr>\n",
       "    <tr>\n",
       "      <th>top</th>\n",
       "      <td>NaN</td>\n",
       "      <td>NaN</td>\n",
       "      <td>NaN</td>\n",
       "      <td>Chinese</td>\n",
       "    </tr>\n",
       "    <tr>\n",
       "      <th>freq</th>\n",
       "      <td>NaN</td>\n",
       "      <td>NaN</td>\n",
       "      <td>NaN</td>\n",
       "      <td>65</td>\n",
       "    </tr>\n",
       "    <tr>\n",
       "      <th>mean</th>\n",
       "      <td>52.830000</td>\n",
       "      <td>54.98750</td>\n",
       "      <td>77.547500</td>\n",
       "      <td>NaN</td>\n",
       "    </tr>\n",
       "    <tr>\n",
       "      <th>std</th>\n",
       "      <td>12.961912</td>\n",
       "      <td>9.42178</td>\n",
       "      <td>9.165507</td>\n",
       "      <td>NaN</td>\n",
       "    </tr>\n",
       "    <tr>\n",
       "      <th>min</th>\n",
       "      <td>15.000000</td>\n",
       "      <td>20.00000</td>\n",
       "      <td>25.000000</td>\n",
       "      <td>NaN</td>\n",
       "    </tr>\n",
       "    <tr>\n",
       "      <th>25%</th>\n",
       "      <td>45.000000</td>\n",
       "      <td>48.00000</td>\n",
       "      <td>72.000000</td>\n",
       "      <td>NaN</td>\n",
       "    </tr>\n",
       "    <tr>\n",
       "      <th>50%</th>\n",
       "      <td>52.500000</td>\n",
       "      <td>56.00000</td>\n",
       "      <td>78.000000</td>\n",
       "      <td>NaN</td>\n",
       "    </tr>\n",
       "    <tr>\n",
       "      <th>75%</th>\n",
       "      <td>60.000000</td>\n",
       "      <td>62.00000</td>\n",
       "      <td>84.000000</td>\n",
       "      <td>NaN</td>\n",
       "    </tr>\n",
       "    <tr>\n",
       "      <th>max</th>\n",
       "      <td>95.000000</td>\n",
       "      <td>90.00000</td>\n",
       "      <td>94.000000</td>\n",
       "      <td>NaN</td>\n",
       "    </tr>\n",
       "  </tbody>\n",
       "</table>\n",
       "</div>"
      ],
      "text/plain": [
       "        math_score  science_score  english_score second_lang\n",
       "count   200.000000      200.00000     200.000000         200\n",
       "unique         NaN            NaN            NaN           5\n",
       "top            NaN            NaN            NaN     Chinese\n",
       "freq           NaN            NaN            NaN          65\n",
       "mean     52.830000       54.98750      77.547500         NaN\n",
       "std      12.961912        9.42178       9.165507         NaN\n",
       "min      15.000000       20.00000      25.000000         NaN\n",
       "25%      45.000000       48.00000      72.000000         NaN\n",
       "50%      52.500000       56.00000      78.000000         NaN\n",
       "75%      60.000000       62.00000      84.000000         NaN\n",
       "max      95.000000       90.00000      94.000000         NaN"
      ]
     },
     "execution_count": 26,
     "metadata": {},
     "output_type": "execute_result"
    }
   ],
   "source": [
    "# 범주형 데이터를 분석할 때도, describe의 include='all' 옵션을 주면 확인할 수 있다!\n",
    "df_exam.describe(include='all')"
   ]
  },
  {
   "cell_type": "markdown",
   "id": "253c9b52-cb19-4612-9a00-aff2f510de21",
   "metadata": {
    "jp-MarkdownHeadingCollapsed": true,
    "tags": []
   },
   "source": [
    "### 질문 3.\n",
    "- 영어 시험 점수의 평균은 몇 점인지 소수 첫째 자리까지 반올림해서 써 주세요."
   ]
  },
  {
   "cell_type": "code",
   "execution_count": 27,
   "id": "761a6bd3-01b6-4fca-b180-7132d257c141",
   "metadata": {},
   "outputs": [
    {
     "data": {
      "text/plain": [
       "77.5"
      ]
     },
     "execution_count": 27,
     "metadata": {},
     "output_type": "execute_result"
    }
   ],
   "source": [
    "round(df_exam['english_score'].mean(), 1)"
   ]
  },
  {
   "cell_type": "code",
   "execution_count": 19,
   "id": "7272f0c6-5a51-4c48-a252-f0e4a2581928",
   "metadata": {},
   "outputs": [
    {
     "data": {
      "text/html": [
       "<div>\n",
       "<style scoped>\n",
       "    .dataframe tbody tr th:only-of-type {\n",
       "        vertical-align: middle;\n",
       "    }\n",
       "\n",
       "    .dataframe tbody tr th {\n",
       "        vertical-align: top;\n",
       "    }\n",
       "\n",
       "    .dataframe thead th {\n",
       "        text-align: right;\n",
       "    }\n",
       "</style>\n",
       "<table border=\"1\" class=\"dataframe\">\n",
       "  <thead>\n",
       "    <tr style=\"text-align: right;\">\n",
       "      <th></th>\n",
       "      <th>math_score</th>\n",
       "      <th>science_score</th>\n",
       "      <th>english_score</th>\n",
       "    </tr>\n",
       "  </thead>\n",
       "  <tbody>\n",
       "    <tr>\n",
       "      <th>count</th>\n",
       "      <td>200.000000</td>\n",
       "      <td>200.00000</td>\n",
       "      <td>200.000000</td>\n",
       "    </tr>\n",
       "    <tr>\n",
       "      <th>mean</th>\n",
       "      <td>52.830000</td>\n",
       "      <td>54.98750</td>\n",
       "      <td>77.547500</td>\n",
       "    </tr>\n",
       "    <tr>\n",
       "      <th>std</th>\n",
       "      <td>12.961912</td>\n",
       "      <td>9.42178</td>\n",
       "      <td>9.165507</td>\n",
       "    </tr>\n",
       "    <tr>\n",
       "      <th>min</th>\n",
       "      <td>15.000000</td>\n",
       "      <td>20.00000</td>\n",
       "      <td>25.000000</td>\n",
       "    </tr>\n",
       "    <tr>\n",
       "      <th>25%</th>\n",
       "      <td>45.000000</td>\n",
       "      <td>48.00000</td>\n",
       "      <td>72.000000</td>\n",
       "    </tr>\n",
       "    <tr>\n",
       "      <th>50%</th>\n",
       "      <td>52.500000</td>\n",
       "      <td>56.00000</td>\n",
       "      <td>78.000000</td>\n",
       "    </tr>\n",
       "    <tr>\n",
       "      <th>75%</th>\n",
       "      <td>60.000000</td>\n",
       "      <td>62.00000</td>\n",
       "      <td>84.000000</td>\n",
       "    </tr>\n",
       "    <tr>\n",
       "      <th>max</th>\n",
       "      <td>95.000000</td>\n",
       "      <td>90.00000</td>\n",
       "      <td>94.000000</td>\n",
       "    </tr>\n",
       "  </tbody>\n",
       "</table>\n",
       "</div>"
      ],
      "text/plain": [
       "       math_score  science_score  english_score\n",
       "count  200.000000      200.00000     200.000000\n",
       "mean    52.830000       54.98750      77.547500\n",
       "std     12.961912        9.42178       9.165507\n",
       "min     15.000000       20.00000      25.000000\n",
       "25%     45.000000       48.00000      72.000000\n",
       "50%     52.500000       56.00000      78.000000\n",
       "75%     60.000000       62.00000      84.000000\n",
       "max     95.000000       90.00000      94.000000"
      ]
     },
     "execution_count": 19,
     "metadata": {},
     "output_type": "execute_result"
    }
   ],
   "source": []
  },
  {
   "cell_type": "markdown",
   "id": "63d37c1c-c82d-4251-9e27-f452623d9069",
   "metadata": {
    "tags": []
   },
   "source": [
    "### 질문 4.\n",
    "- 과학 시험 점수의 중간값은 몇 점인지 써 주세요."
   ]
  },
  {
   "cell_type": "code",
   "execution_count": 28,
   "id": "155b642c-1d5a-46ab-b1cc-97a3196e7768",
   "metadata": {},
   "outputs": [
    {
     "data": {
      "text/plain": [
       "56.0"
      ]
     },
     "execution_count": 28,
     "metadata": {},
     "output_type": "execute_result"
    }
   ],
   "source": [
    "# quantile(0.5)와 같다. 단, 평균과는 다르다!\n",
    "df_exam['science_score'].median()"
   ]
  },
  {
   "cell_type": "code",
   "execution_count": 29,
   "id": "d410170f-2c5a-479b-aba9-4c9696e69218",
   "metadata": {},
   "outputs": [
    {
     "data": {
      "text/html": [
       "<div>\n",
       "<style scoped>\n",
       "    .dataframe tbody tr th:only-of-type {\n",
       "        vertical-align: middle;\n",
       "    }\n",
       "\n",
       "    .dataframe tbody tr th {\n",
       "        vertical-align: top;\n",
       "    }\n",
       "\n",
       "    .dataframe thead th {\n",
       "        text-align: right;\n",
       "    }\n",
       "</style>\n",
       "<table border=\"1\" class=\"dataframe\">\n",
       "  <thead>\n",
       "    <tr style=\"text-align: right;\">\n",
       "      <th></th>\n",
       "      <th>math_score</th>\n",
       "      <th>science_score</th>\n",
       "      <th>english_score</th>\n",
       "    </tr>\n",
       "  </thead>\n",
       "  <tbody>\n",
       "    <tr>\n",
       "      <th>count</th>\n",
       "      <td>200.000000</td>\n",
       "      <td>200.00000</td>\n",
       "      <td>200.000000</td>\n",
       "    </tr>\n",
       "    <tr>\n",
       "      <th>mean</th>\n",
       "      <td>52.830000</td>\n",
       "      <td>54.98750</td>\n",
       "      <td>77.547500</td>\n",
       "    </tr>\n",
       "    <tr>\n",
       "      <th>std</th>\n",
       "      <td>12.961912</td>\n",
       "      <td>9.42178</td>\n",
       "      <td>9.165507</td>\n",
       "    </tr>\n",
       "    <tr>\n",
       "      <th>min</th>\n",
       "      <td>15.000000</td>\n",
       "      <td>20.00000</td>\n",
       "      <td>25.000000</td>\n",
       "    </tr>\n",
       "    <tr>\n",
       "      <th>25%</th>\n",
       "      <td>45.000000</td>\n",
       "      <td>48.00000</td>\n",
       "      <td>72.000000</td>\n",
       "    </tr>\n",
       "    <tr>\n",
       "      <th>50%</th>\n",
       "      <td>52.500000</td>\n",
       "      <td>56.00000</td>\n",
       "      <td>78.000000</td>\n",
       "    </tr>\n",
       "    <tr>\n",
       "      <th>75%</th>\n",
       "      <td>60.000000</td>\n",
       "      <td>62.00000</td>\n",
       "      <td>84.000000</td>\n",
       "    </tr>\n",
       "    <tr>\n",
       "      <th>max</th>\n",
       "      <td>95.000000</td>\n",
       "      <td>90.00000</td>\n",
       "      <td>94.000000</td>\n",
       "    </tr>\n",
       "  </tbody>\n",
       "</table>\n",
       "</div>"
      ],
      "text/plain": [
       "       math_score  science_score  english_score\n",
       "count  200.000000      200.00000     200.000000\n",
       "mean    52.830000       54.98750      77.547500\n",
       "std     12.961912        9.42178       9.165507\n",
       "min     15.000000       20.00000      25.000000\n",
       "25%     45.000000       48.00000      72.000000\n",
       "50%     52.500000       56.00000      78.000000\n",
       "75%     60.000000       62.00000      84.000000\n",
       "max     95.000000       90.00000      94.000000"
      ]
     },
     "execution_count": 29,
     "metadata": {},
     "output_type": "execute_result"
    }
   ],
   "source": [
    "df_exam.describe()"
   ]
  },
  {
   "cell_type": "markdown",
   "id": "2f7e0888-b609-445b-b6bb-b8c08b3faa84",
   "metadata": {
    "jp-MarkdownHeadingCollapsed": true,
    "tags": []
   },
   "source": [
    "## 2. 스타벅스 음료의 칼로리는?\n",
    "> - 실습 설명\n",
    ">\n",
    "> 스타벅스 음료의 영양성분 데이터를 분석해 봅시다. 음료 메뉴들의 칼로리 분포를 아래와 같이 박스 플롯으로 그려 보세요!"
   ]
  },
  {
   "cell_type": "code",
   "execution_count": 4,
   "id": "9650267c-fd4f-4572-856f-01611d9d86b0",
   "metadata": {},
   "outputs": [
    {
     "data": {
      "text/html": [
       "<div>\n",
       "<style scoped>\n",
       "    .dataframe tbody tr th:only-of-type {\n",
       "        vertical-align: middle;\n",
       "    }\n",
       "\n",
       "    .dataframe tbody tr th {\n",
       "        vertical-align: top;\n",
       "    }\n",
       "\n",
       "    .dataframe thead th {\n",
       "        text-align: right;\n",
       "    }\n",
       "</style>\n",
       "<table border=\"1\" class=\"dataframe\">\n",
       "  <thead>\n",
       "    <tr style=\"text-align: right;\">\n",
       "      <th></th>\n",
       "      <th>category</th>\n",
       "      <th>beverage</th>\n",
       "      <th>option</th>\n",
       "      <th>calories</th>\n",
       "      <th>total_carbohydrates(g)</th>\n",
       "      <th>total_fat(g)</th>\n",
       "      <th>protein(g)</th>\n",
       "      <th>cholesterol(mg)</th>\n",
       "      <th>caffeine(mg)</th>\n",
       "    </tr>\n",
       "  </thead>\n",
       "  <tbody>\n",
       "    <tr>\n",
       "      <th>0</th>\n",
       "      <td>Classic Espresso Drinks</td>\n",
       "      <td>Skinny Latte (Any Flavour)</td>\n",
       "      <td>Grande Nonfat Milk</td>\n",
       "      <td>120</td>\n",
       "      <td>160</td>\n",
       "      <td>0.3</td>\n",
       "      <td>12.0</td>\n",
       "      <td>18</td>\n",
       "      <td>150</td>\n",
       "    </tr>\n",
       "    <tr>\n",
       "      <th>1</th>\n",
       "      <td>Signature Espresso Drinks</td>\n",
       "      <td>Caramel Macchiato</td>\n",
       "      <td>Grande Nonfat Milk</td>\n",
       "      <td>190</td>\n",
       "      <td>130</td>\n",
       "      <td>1.0</td>\n",
       "      <td>11.0</td>\n",
       "      <td>35</td>\n",
       "      <td>150</td>\n",
       "    </tr>\n",
       "    <tr>\n",
       "      <th>2</th>\n",
       "      <td>Classic Espresso Drinks</td>\n",
       "      <td>Skinny Latte (Any Flavour)</td>\n",
       "      <td>Short Nonfat Milk</td>\n",
       "      <td>60</td>\n",
       "      <td>80</td>\n",
       "      <td>0.1</td>\n",
       "      <td>6.0</td>\n",
       "      <td>9</td>\n",
       "      <td>75</td>\n",
       "    </tr>\n",
       "  </tbody>\n",
       "</table>\n",
       "</div>"
      ],
      "text/plain": [
       "                    category                    beverage              option  \\\n",
       "0    Classic Espresso Drinks  Skinny Latte (Any Flavour)  Grande Nonfat Milk   \n",
       "1  Signature Espresso Drinks           Caramel Macchiato  Grande Nonfat Milk   \n",
       "2    Classic Espresso Drinks  Skinny Latte (Any Flavour)   Short Nonfat Milk   \n",
       "\n",
       "   calories  total_carbohydrates(g)  total_fat(g)  protein(g)  \\\n",
       "0       120                     160           0.3        12.0   \n",
       "1       190                     130           1.0        11.0   \n",
       "2        60                      80           0.1         6.0   \n",
       "\n",
       "   cholesterol(mg)  caffeine(mg)  \n",
       "0               18           150  \n",
       "1               35           150  \n",
       "2                9            75  "
      ]
     },
     "execution_count": 4,
     "metadata": {},
     "output_type": "execute_result"
    }
   ],
   "source": [
    "import pandas as pd\n",
    "\n",
    "starbucks_df = pd.read_csv('../data-2/starbucks.csv')\n",
    "starbucks_df.head(3)"
   ]
  },
  {
   "cell_type": "code",
   "execution_count": 23,
   "id": "d9953cf8-db2d-490f-bdcb-a05332afdff8",
   "metadata": {},
   "outputs": [
    {
     "data": {
      "text/html": [
       "<div>\n",
       "<style scoped>\n",
       "    .dataframe tbody tr th:only-of-type {\n",
       "        vertical-align: middle;\n",
       "    }\n",
       "\n",
       "    .dataframe tbody tr th {\n",
       "        vertical-align: top;\n",
       "    }\n",
       "\n",
       "    .dataframe thead th {\n",
       "        text-align: right;\n",
       "    }\n",
       "</style>\n",
       "<table border=\"1\" class=\"dataframe\">\n",
       "  <thead>\n",
       "    <tr style=\"text-align: right;\">\n",
       "      <th></th>\n",
       "      <th>category</th>\n",
       "      <th>beverage</th>\n",
       "      <th>option</th>\n",
       "      <th>calories</th>\n",
       "      <th>total_carbohydrates(g)</th>\n",
       "      <th>total_fat(g)</th>\n",
       "      <th>protein(g)</th>\n",
       "      <th>cholesterol(mg)</th>\n",
       "      <th>caffeine(mg)</th>\n",
       "    </tr>\n",
       "  </thead>\n",
       "  <tbody>\n",
       "    <tr>\n",
       "      <th>count</th>\n",
       "      <td>219</td>\n",
       "      <td>219</td>\n",
       "      <td>219</td>\n",
       "      <td>219.000000</td>\n",
       "      <td>219.000000</td>\n",
       "      <td>219.000000</td>\n",
       "      <td>219.000000</td>\n",
       "      <td>219.000000</td>\n",
       "      <td>219.000000</td>\n",
       "    </tr>\n",
       "    <tr>\n",
       "      <th>unique</th>\n",
       "      <td>9</td>\n",
       "      <td>30</td>\n",
       "      <td>13</td>\n",
       "      <td>NaN</td>\n",
       "      <td>NaN</td>\n",
       "      <td>NaN</td>\n",
       "      <td>NaN</td>\n",
       "      <td>NaN</td>\n",
       "      <td>NaN</td>\n",
       "    </tr>\n",
       "    <tr>\n",
       "      <th>top</th>\n",
       "      <td>Classic Espresso Drinks</td>\n",
       "      <td>Hot Chocolate (Without Whipped Cream)</td>\n",
       "      <td>Soymilk</td>\n",
       "      <td>NaN</td>\n",
       "      <td>NaN</td>\n",
       "      <td>NaN</td>\n",
       "      <td>NaN</td>\n",
       "      <td>NaN</td>\n",
       "      <td>NaN</td>\n",
       "    </tr>\n",
       "    <tr>\n",
       "      <th>freq</th>\n",
       "      <td>58</td>\n",
       "      <td>12</td>\n",
       "      <td>62</td>\n",
       "      <td>NaN</td>\n",
       "      <td>NaN</td>\n",
       "      <td>NaN</td>\n",
       "      <td>NaN</td>\n",
       "      <td>NaN</td>\n",
       "      <td>NaN</td>\n",
       "    </tr>\n",
       "    <tr>\n",
       "      <th>mean</th>\n",
       "      <td>NaN</td>\n",
       "      <td>NaN</td>\n",
       "      <td>NaN</td>\n",
       "      <td>201.584475</td>\n",
       "      <td>137.374429</td>\n",
       "      <td>3.074886</td>\n",
       "      <td>7.294521</td>\n",
       "      <td>37.296804</td>\n",
       "      <td>89.520548</td>\n",
       "    </tr>\n",
       "    <tr>\n",
       "      <th>std</th>\n",
       "      <td>NaN</td>\n",
       "      <td>NaN</td>\n",
       "      <td>NaN</td>\n",
       "      <td>102.353614</td>\n",
       "      <td>80.605714</td>\n",
       "      <td>3.000590</td>\n",
       "      <td>4.790546</td>\n",
       "      <td>20.926664</td>\n",
       "      <td>64.726831</td>\n",
       "    </tr>\n",
       "    <tr>\n",
       "      <th>min</th>\n",
       "      <td>NaN</td>\n",
       "      <td>NaN</td>\n",
       "      <td>NaN</td>\n",
       "      <td>3.000000</td>\n",
       "      <td>0.000000</td>\n",
       "      <td>0.000000</td>\n",
       "      <td>0.000000</td>\n",
       "      <td>0.000000</td>\n",
       "      <td>0.000000</td>\n",
       "    </tr>\n",
       "    <tr>\n",
       "      <th>25%</th>\n",
       "      <td>NaN</td>\n",
       "      <td>NaN</td>\n",
       "      <td>NaN</td>\n",
       "      <td>125.000000</td>\n",
       "      <td>80.000000</td>\n",
       "      <td>0.200000</td>\n",
       "      <td>4.000000</td>\n",
       "      <td>21.000000</td>\n",
       "      <td>50.000000</td>\n",
       "    </tr>\n",
       "    <tr>\n",
       "      <th>50%</th>\n",
       "      <td>NaN</td>\n",
       "      <td>NaN</td>\n",
       "      <td>NaN</td>\n",
       "      <td>190.000000</td>\n",
       "      <td>130.000000</td>\n",
       "      <td>2.500000</td>\n",
       "      <td>6.000000</td>\n",
       "      <td>36.000000</td>\n",
       "      <td>75.000000</td>\n",
       "    </tr>\n",
       "    <tr>\n",
       "      <th>75%</th>\n",
       "      <td>NaN</td>\n",
       "      <td>NaN</td>\n",
       "      <td>NaN</td>\n",
       "      <td>270.000000</td>\n",
       "      <td>180.000000</td>\n",
       "      <td>5.000000</td>\n",
       "      <td>10.000000</td>\n",
       "      <td>53.000000</td>\n",
       "      <td>142.500000</td>\n",
       "    </tr>\n",
       "    <tr>\n",
       "      <th>max</th>\n",
       "      <td>NaN</td>\n",
       "      <td>NaN</td>\n",
       "      <td>NaN</td>\n",
       "      <td>510.000000</td>\n",
       "      <td>340.000000</td>\n",
       "      <td>15.000000</td>\n",
       "      <td>20.000000</td>\n",
       "      <td>90.000000</td>\n",
       "      <td>410.000000</td>\n",
       "    </tr>\n",
       "  </tbody>\n",
       "</table>\n",
       "</div>"
      ],
      "text/plain": [
       "                       category                               beverage  \\\n",
       "count                       219                                    219   \n",
       "unique                        9                                     30   \n",
       "top     Classic Espresso Drinks  Hot Chocolate (Without Whipped Cream)   \n",
       "freq                         58                                     12   \n",
       "mean                        NaN                                    NaN   \n",
       "std                         NaN                                    NaN   \n",
       "min                         NaN                                    NaN   \n",
       "25%                         NaN                                    NaN   \n",
       "50%                         NaN                                    NaN   \n",
       "75%                         NaN                                    NaN   \n",
       "max                         NaN                                    NaN   \n",
       "\n",
       "         option    calories  total_carbohydrates(g)  total_fat(g)  protein(g)  \\\n",
       "count       219  219.000000              219.000000    219.000000  219.000000   \n",
       "unique       13         NaN                     NaN           NaN         NaN   \n",
       "top     Soymilk         NaN                     NaN           NaN         NaN   \n",
       "freq         62         NaN                     NaN           NaN         NaN   \n",
       "mean        NaN  201.584475              137.374429      3.074886    7.294521   \n",
       "std         NaN  102.353614               80.605714      3.000590    4.790546   \n",
       "min         NaN    3.000000                0.000000      0.000000    0.000000   \n",
       "25%         NaN  125.000000               80.000000      0.200000    4.000000   \n",
       "50%         NaN  190.000000              130.000000      2.500000    6.000000   \n",
       "75%         NaN  270.000000              180.000000      5.000000   10.000000   \n",
       "max         NaN  510.000000              340.000000     15.000000   20.000000   \n",
       "\n",
       "        cholesterol(mg)  caffeine(mg)  \n",
       "count        219.000000    219.000000  \n",
       "unique              NaN           NaN  \n",
       "top                 NaN           NaN  \n",
       "freq                NaN           NaN  \n",
       "mean          37.296804     89.520548  \n",
       "std           20.926664     64.726831  \n",
       "min            0.000000      0.000000  \n",
       "25%           21.000000     50.000000  \n",
       "50%           36.000000     75.000000  \n",
       "75%           53.000000    142.500000  \n",
       "max           90.000000    410.000000  "
      ]
     },
     "execution_count": 23,
     "metadata": {},
     "output_type": "execute_result"
    }
   ],
   "source": [
    "# 범주형 데이터의 간단한 기초 통계 파악\n",
    "### catergory > beverage > option 이렇게 3분류로서 모두 unique한 값을 가진다.\n"
   ]
  },
  {
   "cell_type": "code",
   "execution_count": 7,
   "id": "9bc57b6a-83ef-41ff-ab33-0f113bf2e36b",
   "metadata": {},
   "outputs": [
    {
     "data": {
      "text/plain": [
       "<Axes: >"
      ]
     },
     "execution_count": 7,
     "metadata": {},
     "output_type": "execute_result"
    },
    {
     "data": {
      "image/png": "[encoded data removed]",
      "text/plain": [
       "<Figure size 640x480 with 1 Axes>"
      ]
     },
     "metadata": {},
     "output_type": "display_data"
    }
   ],
   "source": [
    "starbucks_df['calories'].plot(kind='box')"
   ]
  },
  {
   "cell_type": "markdown",
   "id": "f587db4b-cb34-4ce8-829c-e4c9d9e16faf",
   "metadata": {
    "jp-MarkdownHeadingCollapsed": true,
    "tags": []
   },
   "source": [
    "## 3. 중고차 데이터 분석1\n",
    "> - 실습 설명\n",
    ">\n",
    "> 윤수는 오랜 취업 준비 끝에 중고차 거래 플랫폼에 취업했다고 합니다. 첫 업무로 현재 판매되고 있는 중고차 데이터를 분석해 보려고 하는데요. 현대자동차의 가격대 분포를 한눈에 볼 수 있도록 아래와 같이 히스토그램(막대 10개)을 그려 보세요. 채점을 위해 plt.show() 코드 없이 작성해 주세요!"
   ]
  },
  {
   "cell_type": "code",
   "execution_count": 8,
   "id": "74225e17-40ee-4d50-8e87-31cba93b8833",
   "metadata": {},
   "outputs": [
    {
     "data": {
      "text/html": [
       "<div>\n",
       "<style scoped>\n",
       "    .dataframe tbody tr th:only-of-type {\n",
       "        vertical-align: middle;\n",
       "    }\n",
       "\n",
       "    .dataframe tbody tr th {\n",
       "        vertical-align: top;\n",
       "    }\n",
       "\n",
       "    .dataframe thead th {\n",
       "        text-align: right;\n",
       "    }\n",
       "</style>\n",
       "<table border=\"1\" class=\"dataframe\">\n",
       "  <thead>\n",
       "    <tr style=\"text-align: right;\">\n",
       "      <th></th>\n",
       "      <th>manufacturer</th>\n",
       "      <th>category</th>\n",
       "      <th>fuel_type</th>\n",
       "      <th>engine_volume</th>\n",
       "      <th>mileage</th>\n",
       "      <th>price</th>\n",
       "    </tr>\n",
       "  </thead>\n",
       "  <tbody>\n",
       "    <tr>\n",
       "      <th>0</th>\n",
       "      <td>HYUNDAI</td>\n",
       "      <td>Jeep</td>\n",
       "      <td>Petrol</td>\n",
       "      <td>2.0</td>\n",
       "      <td>36800</td>\n",
       "      <td>36065</td>\n",
       "    </tr>\n",
       "    <tr>\n",
       "      <th>1</th>\n",
       "      <td>TOYOTA</td>\n",
       "      <td>Sedan</td>\n",
       "      <td>Petrol</td>\n",
       "      <td>2.5</td>\n",
       "      <td>107000</td>\n",
       "      <td>15053</td>\n",
       "    </tr>\n",
       "    <tr>\n",
       "      <th>2</th>\n",
       "      <td>NISSAN</td>\n",
       "      <td>Jeep</td>\n",
       "      <td>Petrol</td>\n",
       "      <td>1.6</td>\n",
       "      <td>108222</td>\n",
       "      <td>7527</td>\n",
       "    </tr>\n",
       "    <tr>\n",
       "      <th>3</th>\n",
       "      <td>BMW</td>\n",
       "      <td>Jeep</td>\n",
       "      <td>Diesel</td>\n",
       "      <td>3.0</td>\n",
       "      <td>18000</td>\n",
       "      <td>15681</td>\n",
       "    </tr>\n",
       "    <tr>\n",
       "      <th>4</th>\n",
       "      <td>MERCEDES-BENZ</td>\n",
       "      <td>Hatchback</td>\n",
       "      <td>Petrol</td>\n",
       "      <td>1.7</td>\n",
       "      <td>160000</td>\n",
       "      <td>13485</td>\n",
       "    </tr>\n",
       "    <tr>\n",
       "      <th>...</th>\n",
       "      <td>...</td>\n",
       "      <td>...</td>\n",
       "      <td>...</td>\n",
       "      <td>...</td>\n",
       "      <td>...</td>\n",
       "      <td>...</td>\n",
       "    </tr>\n",
       "    <tr>\n",
       "      <th>12014</th>\n",
       "      <td>TOYOTA</td>\n",
       "      <td>Hatchback</td>\n",
       "      <td>Hybrid</td>\n",
       "      <td>1.5</td>\n",
       "      <td>181474</td>\n",
       "      <td>14831</td>\n",
       "    </tr>\n",
       "    <tr>\n",
       "      <th>12015</th>\n",
       "      <td>CHEVROLET</td>\n",
       "      <td>Jeep</td>\n",
       "      <td>Diesel</td>\n",
       "      <td>2.0</td>\n",
       "      <td>70922</td>\n",
       "      <td>41055</td>\n",
       "    </tr>\n",
       "    <tr>\n",
       "      <th>12016</th>\n",
       "      <td>HYUNDAI</td>\n",
       "      <td>Jeep</td>\n",
       "      <td>Diesel</td>\n",
       "      <td>2.0</td>\n",
       "      <td>273371</td>\n",
       "      <td>27858</td>\n",
       "    </tr>\n",
       "    <tr>\n",
       "      <th>12017</th>\n",
       "      <td>LEXUS</td>\n",
       "      <td>Jeep</td>\n",
       "      <td>LPG</td>\n",
       "      <td>4.7</td>\n",
       "      <td>170000</td>\n",
       "      <td>34497</td>\n",
       "    </tr>\n",
       "    <tr>\n",
       "      <th>12018</th>\n",
       "      <td>MERCEDES-BENZ</td>\n",
       "      <td>Coupe</td>\n",
       "      <td>Petrol</td>\n",
       "      <td>2.3</td>\n",
       "      <td>157000</td>\n",
       "      <td>7213</td>\n",
       "    </tr>\n",
       "  </tbody>\n",
       "</table>\n",
       "<p>12019 rows × 6 columns</p>\n",
       "</div>"
      ],
      "text/plain": [
       "        manufacturer   category fuel_type  engine_volume  mileage  price\n",
       "0            HYUNDAI       Jeep    Petrol            2.0    36800  36065\n",
       "1             TOYOTA      Sedan    Petrol            2.5   107000  15053\n",
       "2             NISSAN       Jeep    Petrol            1.6   108222   7527\n",
       "3                BMW       Jeep    Diesel            3.0    18000  15681\n",
       "4      MERCEDES-BENZ  Hatchback    Petrol            1.7   160000  13485\n",
       "...              ...        ...       ...            ...      ...    ...\n",
       "12014         TOYOTA  Hatchback    Hybrid            1.5   181474  14831\n",
       "12015      CHEVROLET       Jeep    Diesel            2.0    70922  41055\n",
       "12016        HYUNDAI       Jeep    Diesel            2.0   273371  27858\n",
       "12017          LEXUS       Jeep       LPG            4.7   170000  34497\n",
       "12018  MERCEDES-BENZ      Coupe    Petrol            2.3   157000   7213\n",
       "\n",
       "[12019 rows x 6 columns]"
      ]
     },
     "execution_count": 8,
     "metadata": {},
     "output_type": "execute_result"
    }
   ],
   "source": [
    "import pandas as pd\n",
    "\n",
    "car_df = pd.read_csv('../data-2/car.csv')\n",
    "car_df"
   ]
  },
  {
   "cell_type": "code",
   "execution_count": 28,
   "id": "f3a9f0db-50dc-457d-a6da-b6975808fa7e",
   "metadata": {},
   "outputs": [
    {
     "data": {
      "text/html": [
       "<div>\n",
       "<style scoped>\n",
       "    .dataframe tbody tr th:only-of-type {\n",
       "        vertical-align: middle;\n",
       "    }\n",
       "\n",
       "    .dataframe tbody tr th {\n",
       "        vertical-align: top;\n",
       "    }\n",
       "\n",
       "    .dataframe thead th {\n",
       "        text-align: right;\n",
       "    }\n",
       "</style>\n",
       "<table border=\"1\" class=\"dataframe\">\n",
       "  <thead>\n",
       "    <tr style=\"text-align: right;\">\n",
       "      <th></th>\n",
       "      <th>manufacturer</th>\n",
       "      <th>category</th>\n",
       "      <th>fuel_type</th>\n",
       "      <th>engine_volume</th>\n",
       "      <th>mileage</th>\n",
       "      <th>price</th>\n",
       "    </tr>\n",
       "  </thead>\n",
       "  <tbody>\n",
       "    <tr>\n",
       "      <th>count</th>\n",
       "      <td>12019</td>\n",
       "      <td>12019</td>\n",
       "      <td>12019</td>\n",
       "      <td>12019.000000</td>\n",
       "      <td>12019.000000</td>\n",
       "      <td>12019.000000</td>\n",
       "    </tr>\n",
       "    <tr>\n",
       "      <th>unique</th>\n",
       "      <td>11</td>\n",
       "      <td>11</td>\n",
       "      <td>7</td>\n",
       "      <td>NaN</td>\n",
       "      <td>NaN</td>\n",
       "      <td>NaN</td>\n",
       "    </tr>\n",
       "    <tr>\n",
       "      <th>top</th>\n",
       "      <td>HYUNDAI</td>\n",
       "      <td>Sedan</td>\n",
       "      <td>Petrol</td>\n",
       "      <td>NaN</td>\n",
       "      <td>NaN</td>\n",
       "      <td>NaN</td>\n",
       "    </tr>\n",
       "    <tr>\n",
       "      <th>freq</th>\n",
       "      <td>3229</td>\n",
       "      <td>5531</td>\n",
       "      <td>6150</td>\n",
       "      <td>NaN</td>\n",
       "      <td>NaN</td>\n",
       "      <td>NaN</td>\n",
       "    </tr>\n",
       "    <tr>\n",
       "      <th>mean</th>\n",
       "      <td>NaN</td>\n",
       "      <td>NaN</td>\n",
       "      <td>NaN</td>\n",
       "      <td>2.270239</td>\n",
       "      <td>131629.232798</td>\n",
       "      <td>22585.734504</td>\n",
       "    </tr>\n",
       "    <tr>\n",
       "      <th>std</th>\n",
       "      <td>NaN</td>\n",
       "      <td>NaN</td>\n",
       "      <td>NaN</td>\n",
       "      <td>0.824561</td>\n",
       "      <td>85761.569484</td>\n",
       "      <td>18133.404347</td>\n",
       "    </tr>\n",
       "    <tr>\n",
       "      <th>min</th>\n",
       "      <td>NaN</td>\n",
       "      <td>NaN</td>\n",
       "      <td>NaN</td>\n",
       "      <td>0.000000</td>\n",
       "      <td>0.000000</td>\n",
       "      <td>5018.000000</td>\n",
       "    </tr>\n",
       "    <tr>\n",
       "      <th>25%</th>\n",
       "      <td>NaN</td>\n",
       "      <td>NaN</td>\n",
       "      <td>NaN</td>\n",
       "      <td>1.800000</td>\n",
       "      <td>70000.000000</td>\n",
       "      <td>11604.000000</td>\n",
       "    </tr>\n",
       "    <tr>\n",
       "      <th>50%</th>\n",
       "      <td>NaN</td>\n",
       "      <td>NaN</td>\n",
       "      <td>NaN</td>\n",
       "      <td>2.000000</td>\n",
       "      <td>120950.000000</td>\n",
       "      <td>17249.000000</td>\n",
       "    </tr>\n",
       "    <tr>\n",
       "      <th>75%</th>\n",
       "      <td>NaN</td>\n",
       "      <td>NaN</td>\n",
       "      <td>NaN</td>\n",
       "      <td>2.500000</td>\n",
       "      <td>177932.000000</td>\n",
       "      <td>26971.000000</td>\n",
       "    </tr>\n",
       "    <tr>\n",
       "      <th>max</th>\n",
       "      <td>NaN</td>\n",
       "      <td>NaN</td>\n",
       "      <td>NaN</td>\n",
       "      <td>7.300000</td>\n",
       "      <td>498815.000000</td>\n",
       "      <td>297930.000000</td>\n",
       "    </tr>\n",
       "  </tbody>\n",
       "</table>\n",
       "</div>"
      ],
      "text/plain": [
       "       manufacturer category fuel_type  engine_volume        mileage  \\\n",
       "count         12019    12019     12019   12019.000000   12019.000000   \n",
       "unique           11       11         7            NaN            NaN   \n",
       "top         HYUNDAI    Sedan    Petrol            NaN            NaN   \n",
       "freq           3229     5531      6150            NaN            NaN   \n",
       "mean            NaN      NaN       NaN       2.270239  131629.232798   \n",
       "std             NaN      NaN       NaN       0.824561   85761.569484   \n",
       "min             NaN      NaN       NaN       0.000000       0.000000   \n",
       "25%             NaN      NaN       NaN       1.800000   70000.000000   \n",
       "50%             NaN      NaN       NaN       2.000000  120950.000000   \n",
       "75%             NaN      NaN       NaN       2.500000  177932.000000   \n",
       "max             NaN      NaN       NaN       7.300000  498815.000000   \n",
       "\n",
       "                price  \n",
       "count    12019.000000  \n",
       "unique            NaN  \n",
       "top               NaN  \n",
       "freq              NaN  \n",
       "mean     22585.734504  \n",
       "std      18133.404347  \n",
       "min       5018.000000  \n",
       "25%      11604.000000  \n",
       "50%      17249.000000  \n",
       "75%      26971.000000  \n",
       "max     297930.000000  "
      ]
     },
     "execution_count": 28,
     "metadata": {},
     "output_type": "execute_result"
    }
   ],
   "source": []
  },
  {
   "cell_type": "code",
   "execution_count": 30,
   "id": "d9e12732-e67f-4d62-a00d-e519ccf9369c",
   "metadata": {},
   "outputs": [
    {
     "data": {
      "text/plain": [
       "manufacturer\n",
       "HYUNDAI          3229\n",
       "TOYOTA           2563\n",
       "MERCEDES-BENZ    1434\n",
       "CHEVROLET         849\n",
       "BMW               833\n",
       "FORD              803\n",
       "HONDA             738\n",
       "LEXUS             539\n",
       "NISSAN            472\n",
       "VOLKSWAGEN        416\n",
       "AUDI              143\n",
       "Name: count, dtype: int64"
      ]
     },
     "execution_count": 30,
     "metadata": {},
     "output_type": "execute_result"
    }
   ],
   "source": [
    "car_df['manufacturer'].value_counts()\n"
   ]
  },
  {
   "cell_type": "code",
   "execution_count": 32,
   "id": "6731ae72",
   "metadata": {},
   "outputs": [
    {
     "data": {
      "text/plain": [
       "<Axes: ylabel='Frequency'>"
      ]
     },
     "execution_count": 32,
     "metadata": {},
     "output_type": "execute_result"
    },
    {
     "data": {
      "image/png": "[encoded data removed]",
      "text/plain": [
       "<Figure size 640x480 with 1 Axes>"
      ]
     },
     "metadata": {},
     "output_type": "display_data"
    }
   ],
   "source": [
    "car_df.loc[car_df['manufacturer'] == 'HYUNDAI',:]['price'].plot(kind='hist')"
   ]
  },
  {
   "cell_type": "markdown",
   "id": "e46ab262-0a24-475b-a9ea-cb9fae060cef",
   "metadata": {},
   "source": [
    "## 4. 중고차 데이터 분석2"
   ]
  },
  {
   "cell_type": "markdown",
   "id": "d5d68a44-becf-41c1-bc27-3a5d871ea5ca",
   "metadata": {
    "jp-MarkdownHeadingCollapsed": true,
    "tags": []
   },
   "source": [
    "### 질문 1.\n",
    "지난 실습에서 사용한 중고차 데이터를 계속 분석해 봅시다. 아래 그래프는 어떤 제조사의 중고차 가격 정보를 가지고 그린 것인지 고르세요. (직접 그래프를 그려서 비교해 보세요!)"
   ]
  },
  {
   "cell_type": "code",
   "execution_count": 33,
   "id": "a97aee1e-7e8e-47ba-8097-e83376d7d13c",
   "metadata": {},
   "outputs": [
    {
     "data": {
      "text/html": [
       "<div>\n",
       "<style scoped>\n",
       "    .dataframe tbody tr th:only-of-type {\n",
       "        vertical-align: middle;\n",
       "    }\n",
       "\n",
       "    .dataframe tbody tr th {\n",
       "        vertical-align: top;\n",
       "    }\n",
       "\n",
       "    .dataframe thead th {\n",
       "        text-align: right;\n",
       "    }\n",
       "</style>\n",
       "<table border=\"1\" class=\"dataframe\">\n",
       "  <thead>\n",
       "    <tr style=\"text-align: right;\">\n",
       "      <th></th>\n",
       "      <th>manufacturer</th>\n",
       "      <th>category</th>\n",
       "      <th>fuel_type</th>\n",
       "      <th>engine_volume</th>\n",
       "      <th>mileage</th>\n",
       "      <th>price</th>\n",
       "    </tr>\n",
       "  </thead>\n",
       "  <tbody>\n",
       "    <tr>\n",
       "      <th>0</th>\n",
       "      <td>HYUNDAI</td>\n",
       "      <td>Jeep</td>\n",
       "      <td>Petrol</td>\n",
       "      <td>2.0</td>\n",
       "      <td>36800</td>\n",
       "      <td>36065</td>\n",
       "    </tr>\n",
       "    <tr>\n",
       "      <th>1</th>\n",
       "      <td>TOYOTA</td>\n",
       "      <td>Sedan</td>\n",
       "      <td>Petrol</td>\n",
       "      <td>2.5</td>\n",
       "      <td>107000</td>\n",
       "      <td>15053</td>\n",
       "    </tr>\n",
       "    <tr>\n",
       "      <th>2</th>\n",
       "      <td>NISSAN</td>\n",
       "      <td>Jeep</td>\n",
       "      <td>Petrol</td>\n",
       "      <td>1.6</td>\n",
       "      <td>108222</td>\n",
       "      <td>7527</td>\n",
       "    </tr>\n",
       "  </tbody>\n",
       "</table>\n",
       "</div>"
      ],
      "text/plain": [
       "  manufacturer category fuel_type  engine_volume  mileage  price\n",
       "0      HYUNDAI     Jeep    Petrol            2.0    36800  36065\n",
       "1       TOYOTA    Sedan    Petrol            2.5   107000  15053\n",
       "2       NISSAN     Jeep    Petrol            1.6   108222   7527"
      ]
     },
     "execution_count": 33,
     "metadata": {},
     "output_type": "execute_result"
    }
   ],
   "source": [
    "car_df.head(3)"
   ]
  },
  {
   "cell_type": "code",
   "execution_count": 34,
   "id": "92b3fae0-77ad-4abb-8b94-27f4086bd2c6",
   "metadata": {},
   "outputs": [
    {
     "data": {
      "text/plain": [
       "manufacturer\n",
       "HYUNDAI          3229\n",
       "TOYOTA           2563\n",
       "MERCEDES-BENZ    1434\n",
       "CHEVROLET         849\n",
       "BMW               833\n",
       "FORD              803\n",
       "HONDA             738\n",
       "LEXUS             539\n",
       "NISSAN            472\n",
       "VOLKSWAGEN        416\n",
       "AUDI              143\n",
       "Name: count, dtype: int64"
      ]
     },
     "execution_count": 34,
     "metadata": {},
     "output_type": "execute_result"
    }
   ],
   "source": [
    "# 제조사 종류 살펴보기\n",
    "car_df['manufacturer'].value_counts()"
   ]
  },
  {
   "cell_type": "markdown",
   "id": "cce85aed-0eb3-4047-b84b-7ea31cdfdb50",
   "metadata": {},
   "source": [
    "- BMW"
   ]
  },
  {
   "cell_type": "code",
   "execution_count": 35,
   "id": "2d4aa82a-4fa4-459d-a0c9-c5b1dd4db2eb",
   "metadata": {},
   "outputs": [
    {
     "data": {
      "text/plain": [
       "<Axes: ylabel='Frequency'>"
      ]
     },
     "execution_count": 35,
     "metadata": {},
     "output_type": "execute_result"
    },
    {
     "data": {
      "image/png": "[encoded data removed]",
      "text/plain": [
       "<Figure size 640x480 with 1 Axes>"
      ]
     },
     "metadata": {},
     "output_type": "display_data"
    }
   ],
   "source": [
    "car_df.loc[car_df['manufacturer'] == 'BMW',:]['price'].plot(kind='hist')"
   ]
  },
  {
   "cell_type": "markdown",
   "id": "a112cd31-42c3-4a07-8eba-ed32b904d204",
   "metadata": {},
   "source": [
    "- HYUNDAI"
   ]
  },
  {
   "cell_type": "code",
   "execution_count": 36,
   "id": "5eb1ee6d-a2af-4d94-a005-bbf4624ca2c0",
   "metadata": {},
   "outputs": [
    {
     "data": {
      "text/plain": [
       "<Axes: ylabel='Frequency'>"
      ]
     },
     "execution_count": 36,
     "metadata": {},
     "output_type": "execute_result"
    },
    {
     "data": {
      "image/png": "[encoded data removed]",
      "text/plain": [
       "<Figure size 640x480 with 1 Axes>"
      ]
     },
     "metadata": {},
     "output_type": "display_data"
    }
   ],
   "source": [
    "car_df.loc[car_df['manufacturer'] == 'HYUNDAI',:]['price'].plot(kind='hist')"
   ]
  },
  {
   "cell_type": "markdown",
   "id": "2f99d507-1100-4b3e-a305-e3716bfa40b4",
   "metadata": {},
   "source": [
    "- LEXUS"
   ]
  },
  {
   "cell_type": "code",
   "execution_count": 37,
   "id": "4a572ddd-ade1-4150-a2fd-cfcaac45ec02",
   "metadata": {},
   "outputs": [
    {
     "data": {
      "text/plain": [
       "<Axes: ylabel='Frequency'>"
      ]
     },
     "execution_count": 37,
     "metadata": {},
     "output_type": "execute_result"
    },
    {
     "data": {
      "image/png": "[encoded data removed]",
      "text/plain": [
       "<Figure size 640x480 with 1 Axes>"
      ]
     },
     "metadata": {},
     "output_type": "display_data"
    }
   ],
   "source": [
    "car_df.loc[car_df['manufacturer'] == 'LEXUS',:]['price'].plot(kind='hist')"
   ]
  },
  {
   "cell_type": "markdown",
   "id": "27c30283-c3b6-4c1f-bce6-fd1f8be186e0",
   "metadata": {},
   "source": [
    "- VOLKSWAGEN"
   ]
  },
  {
   "cell_type": "code",
   "execution_count": 38,
   "id": "75323106-8147-4b0d-9356-5197449cddb0",
   "metadata": {},
   "outputs": [
    {
     "data": {
      "text/plain": [
       "<Axes: ylabel='Frequency'>"
      ]
     },
     "execution_count": 38,
     "metadata": {},
     "output_type": "execute_result"
    },
    {
     "data": {
      "image/png": "[encoded data removed]",
      "text/plain": [
       "<Figure size 640x480 with 1 Axes>"
      ]
     },
     "metadata": {},
     "output_type": "display_data"
    }
   ],
   "source": [
    "car_df.loc[car_df['manufacturer'] == 'VOLKSWAGEN',:]['price'].plot(kind='hist')"
   ]
  },
  {
   "cell_type": "markdown",
   "id": "eefcaea7-ecfd-4bd2-a1bf-7630b6065f03",
   "metadata": {
    "tags": []
   },
   "source": [
    "### 질문 2.\n",
    "이전 문제에 있는 데이터를 다음과 같은 그래프로 표현할 수도 있습니다. 이렇게 부드러운 곡선 모양으로 전체 데이터의 확률 밀도 함수를 추측해서 그린 그래프를 무엇이라고 하는지 골라 주세요."
   ]
  },
  {
   "cell_type": "markdown",
   "id": "b1499d7d-f45e-43fa-b27e-1b7f7c6500c8",
   "metadata": {},
   "source": [
    "> KDE PLOT"
   ]
  },
  {
   "cell_type": "markdown",
   "id": "b66aea05-fadd-48cb-9d85-fedc460f4d1d",
   "metadata": {},
   "source": [
    "## 5. 데이터 분포 퀴즈"
   ]
  },
  {
   "cell_type": "markdown",
   "id": "f3ed53a5-cd57-47e6-9b5a-dfb57c3eb478",
   "metadata": {},
   "source": [
    "### 질문 1.\n",
    "다음 그래프는 A 학교와 B 학교 학생들의 몸무게 정보를 KDE Plot으로 나타낸 것입니다. 그래프를 잘못 해석한 것을 고르세요."
   ]
  },
  {
   "cell_type": "markdown",
   "id": "eb1c6135-4026-4aa7-9144-ebdb8c9610f3",
   "metadata": {},
   "source": [
    "> 평균으로부터 퍼져있는 정도를 보면 분산의 크기를 알 수 있다!"
   ]
  },
  {
   "cell_type": "markdown",
   "id": "71974c74-3438-44dd-b344-27a91c0aa91e",
   "metadata": {},
   "source": [
    "### 질문 2.\n",
    "아래 그래프는 지원이네 반에서 본 수학 쪽지 시험 결과를 히스토그램으로 나타낸 것입니다. 그래프를 잘못 해석한 것을 고르세요."
   ]
  },
  {
   "cell_type": "markdown",
   "id": "65875536-76cd-47db-aec6-520b605baa64",
   "metadata": {},
   "source": [
    "> positively-skewed, 양의 방향 오른쪽으로 꼬리거든, right-skewed\n",
    "> 반대로 negatively-skewed, 음의 방향 왼쪽으로 꼬리, left-skewed"
   ]
  },
  {
   "cell_type": "markdown",
   "id": "ff7f1468-792b-4aec-a479-5b0c9495e5f8",
   "metadata": {},
   "source": [
    "### 질문 3.\n",
    "아래 그래프는 시애틀의 집값 데이터를 KDE Plot으로 나타낸 것입니다.(1만 달러 기준) 그래프를 올바르게 해석한 것을 고르세요."
   ]
  },
  {
   "cell_type": "markdown",
   "id": "5bfb5d42-fdb7-4cdc-b9b5-4537d0ba934e",
   "metadata": {},
   "source": [
    "> positvely-skewed가 왜도가 0보다 큰거고, 오른쪽으로 꼬리"
   ]
  },
  {
   "cell_type": "markdown",
   "id": "747563ed-ec6c-4d45-bf51-907ac1e4d4bc",
   "metadata": {},
   "source": [
    "### 질문 4.\n",
    "민지네 가족 구성원들의 키를 가지고 분산을 계산해 보세요. 민지의 아버지는 177cm, 민지의 오빠는 183cm, 민지의 어머니는 160cm, 민지는 164cm 입니다."
   ]
  },
  {
   "cell_type": "markdown",
   "id": "e06e8ea1-d20e-4271-9350-817d3211e64a",
   "metadata": {},
   "source": [
    "- 이 경우는 pandas를 이용해 분산 X\n",
    "    - 표본의 분산이 아니다!\n",
    "    - 전수를 파악한 상황의 분산이므로, Numpy의 분산이 맞다.\n",
    "    - 나눠주는 값이 n(numpy)이냐, n-1(pandas)이냐에 대한 이야기야."
   ]
  },
  {
   "cell_type": "code",
   "execution_count": 45,
   "id": "be1c6292-d5a7-4ddc-bc01-5f26578f33c6",
   "metadata": {},
   "outputs": [
    {
     "data": {
      "text/plain": [
       "87.5"
      ]
     },
     "execution_count": 45,
     "metadata": {},
     "output_type": "execute_result"
    }
   ],
   "source": [
    "import numpy as np\n",
    "\n",
    "family_height_array = np.array([177, 183, 160, 164])\n",
    "\n",
    "# 원시적으로 구해볼까?\n",
    "\n",
    "## 1. 평균\n",
    "family_height_array.mean()\n",
    "## 2. 편차의 제곱의 합에 전체 요소의 수를 나누면, 분산\n",
    "((family_height_array - family_height_array.mean())**2).sum() / len(family_height_array)\n"
   ]
  },
  {
   "cell_type": "code",
   "execution_count": 46,
   "id": "a3dbed58-0d06-4a55-9a38-4310f63af972",
   "metadata": {},
   "outputs": [
    {
     "data": {
      "text/plain": [
       "87.5"
      ]
     },
     "execution_count": 46,
     "metadata": {},
     "output_type": "execute_result"
    }
   ],
   "source": [
    "np.var(family_height_array)"
   ]
  },
  {
   "cell_type": "code",
   "execution_count": 47,
   "id": "5f207823-32d7-466a-9ccd-ce659057272e",
   "metadata": {},
   "outputs": [
    {
     "data": {
      "text/plain": [
       "116.66666666666667"
      ]
     },
     "execution_count": 47,
     "metadata": {},
     "output_type": "execute_result"
    }
   ],
   "source": [
    " # n의 수가 적어(4)이므로, 표본 분산과 차이가 크다!\n",
    "pd.Series([177, 183, 160, 164]).var()"
   ]
  },
  {
   "cell_type": "markdown",
   "id": "aeac1fc9-db87-4f7c-aec0-c994950eaba2",
   "metadata": {},
   "source": [
    "> 이 경우는 4로 나누던걸 3으로 나누니, 차이가 크다!"
   ]
  },
  {
   "cell_type": "markdown",
   "id": "94be7f67-8932-42a0-93f3-e5ea90a59e50",
   "metadata": {},
   "source": [
    "## 6. 코드댓, 성공할 수 있을까?\n",
    "> - 실습 설명\n",
    ">\n",
    "> 종훈이는 일주일 전에 '코드댓'이라는 코딩 교육 서비스를 런칭했습니다. 유저를 모으기 위해 지난 일주일 동안 지인들에게 열심히 홍보도 했고, 이제 유저가 얼마나 모였는지 확인해 보려고 합니다. user_df에는 세 개의 컬럼이 있는데, day는 서비스 오픈 후 경과일, register는 그 날 회원가입한 유저 수, unregister는 그 날 탈퇴한 유저 수입니다.\n",
    ">\n",
    "> 새로 가입한 유저 수와 탈퇴한 유저 수를 고려해서, 일별 누적 유저 수를 한눈에 확인할 수 있도록 net_user_cumsum이라는 컬럼을 만들어서 아래와 같은 막대 그래프를 그려 보세요! 채점을 위해 plt.show() 코드 없이 작성해 주세요!"
   ]
  },
  {
   "cell_type": "code",
   "execution_count": 16,
   "id": "3157b55f-318e-4127-b3d4-440cc3529ba5",
   "metadata": {},
   "outputs": [
    {
     "data": {
      "text/html": [
       "<div>\n",
       "<style scoped>\n",
       "    .dataframe tbody tr th:only-of-type {\n",
       "        vertical-align: middle;\n",
       "    }\n",
       "\n",
       "    .dataframe tbody tr th {\n",
       "        vertical-align: top;\n",
       "    }\n",
       "\n",
       "    .dataframe thead th {\n",
       "        text-align: right;\n",
       "    }\n",
       "</style>\n",
       "<table border=\"1\" class=\"dataframe\">\n",
       "  <thead>\n",
       "    <tr style=\"text-align: right;\">\n",
       "      <th></th>\n",
       "      <th>day</th>\n",
       "      <th>register</th>\n",
       "      <th>unregister</th>\n",
       "    </tr>\n",
       "  </thead>\n",
       "  <tbody>\n",
       "    <tr>\n",
       "      <th>0</th>\n",
       "      <td>1</td>\n",
       "      <td>23</td>\n",
       "      <td>0</td>\n",
       "    </tr>\n",
       "    <tr>\n",
       "      <th>1</th>\n",
       "      <td>2</td>\n",
       "      <td>32</td>\n",
       "      <td>3</td>\n",
       "    </tr>\n",
       "    <tr>\n",
       "      <th>2</th>\n",
       "      <td>3</td>\n",
       "      <td>75</td>\n",
       "      <td>4</td>\n",
       "    </tr>\n",
       "    <tr>\n",
       "      <th>3</th>\n",
       "      <td>4</td>\n",
       "      <td>94</td>\n",
       "      <td>5</td>\n",
       "    </tr>\n",
       "    <tr>\n",
       "      <th>4</th>\n",
       "      <td>5</td>\n",
       "      <td>54</td>\n",
       "      <td>3</td>\n",
       "    </tr>\n",
       "    <tr>\n",
       "      <th>5</th>\n",
       "      <td>6</td>\n",
       "      <td>40</td>\n",
       "      <td>5</td>\n",
       "    </tr>\n",
       "    <tr>\n",
       "      <th>6</th>\n",
       "      <td>7</td>\n",
       "      <td>16</td>\n",
       "      <td>3</td>\n",
       "    </tr>\n",
       "  </tbody>\n",
       "</table>\n",
       "</div>"
      ],
      "text/plain": [
       "   day  register  unregister\n",
       "0    1        23           0\n",
       "1    2        32           3\n",
       "2    3        75           4\n",
       "3    4        94           5\n",
       "4    5        54           3\n",
       "5    6        40           5\n",
       "6    7        16           3"
      ]
     },
     "execution_count": 16,
     "metadata": {},
     "output_type": "execute_result"
    }
   ],
   "source": [
    "import pandas as pd\n",
    "\n",
    "user_df = pd.read_csv('../data-2/user.csv') # 일 별 회원가입/ 탈퇴 유저 수\n",
    "user_df"
   ]
  },
  {
   "cell_type": "code",
   "execution_count": 17,
   "id": "d9477619-342a-4adb-9c02-c7685df43d24",
   "metadata": {},
   "outputs": [
    {
     "data": {
      "text/plain": [
       "0    23\n",
       "1    29\n",
       "2    71\n",
       "3    89\n",
       "4    51\n",
       "5    35\n",
       "6    13\n",
       "Name: net_user, dtype: int64"
      ]
     },
     "execution_count": 17,
     "metadata": {},
     "output_type": "execute_result"
    }
   ],
   "source": [
    "user_df['net_user'] = user_df['register'] - user_df['unregister']\n",
    "user_df['net_user']"
   ]
  },
  {
   "cell_type": "code",
   "execution_count": 50,
   "id": "3189dc32-31f6-4681-a2e2-62611b657068",
   "metadata": {},
   "outputs": [
    {
     "data": {
      "text/html": [
       "<div>\n",
       "<style scoped>\n",
       "    .dataframe tbody tr th:only-of-type {\n",
       "        vertical-align: middle;\n",
       "    }\n",
       "\n",
       "    .dataframe tbody tr th {\n",
       "        vertical-align: top;\n",
       "    }\n",
       "\n",
       "    .dataframe thead th {\n",
       "        text-align: right;\n",
       "    }\n",
       "</style>\n",
       "<table border=\"1\" class=\"dataframe\">\n",
       "  <thead>\n",
       "    <tr style=\"text-align: right;\">\n",
       "      <th></th>\n",
       "      <th>day</th>\n",
       "      <th>register</th>\n",
       "      <th>unregister</th>\n",
       "      <th>net_user</th>\n",
       "      <th>net_user_cumsum</th>\n",
       "    </tr>\n",
       "  </thead>\n",
       "  <tbody>\n",
       "    <tr>\n",
       "      <th>0</th>\n",
       "      <td>1</td>\n",
       "      <td>23</td>\n",
       "      <td>0</td>\n",
       "      <td>23</td>\n",
       "      <td>23</td>\n",
       "    </tr>\n",
       "    <tr>\n",
       "      <th>1</th>\n",
       "      <td>2</td>\n",
       "      <td>32</td>\n",
       "      <td>3</td>\n",
       "      <td>29</td>\n",
       "      <td>52</td>\n",
       "    </tr>\n",
       "    <tr>\n",
       "      <th>2</th>\n",
       "      <td>3</td>\n",
       "      <td>75</td>\n",
       "      <td>4</td>\n",
       "      <td>71</td>\n",
       "      <td>123</td>\n",
       "    </tr>\n",
       "    <tr>\n",
       "      <th>3</th>\n",
       "      <td>4</td>\n",
       "      <td>94</td>\n",
       "      <td>5</td>\n",
       "      <td>89</td>\n",
       "      <td>212</td>\n",
       "    </tr>\n",
       "    <tr>\n",
       "      <th>4</th>\n",
       "      <td>5</td>\n",
       "      <td>54</td>\n",
       "      <td>3</td>\n",
       "      <td>51</td>\n",
       "      <td>263</td>\n",
       "    </tr>\n",
       "    <tr>\n",
       "      <th>5</th>\n",
       "      <td>6</td>\n",
       "      <td>40</td>\n",
       "      <td>5</td>\n",
       "      <td>35</td>\n",
       "      <td>298</td>\n",
       "    </tr>\n",
       "    <tr>\n",
       "      <th>6</th>\n",
       "      <td>7</td>\n",
       "      <td>16</td>\n",
       "      <td>3</td>\n",
       "      <td>13</td>\n",
       "      <td>311</td>\n",
       "    </tr>\n",
       "  </tbody>\n",
       "</table>\n",
       "</div>"
      ],
      "text/plain": [
       "   day  register  unregister  net_user  net_user_cumsum\n",
       "0    1        23           0        23               23\n",
       "1    2        32           3        29               52\n",
       "2    3        75           4        71              123\n",
       "3    4        94           5        89              212\n",
       "4    5        54           3        51              263\n",
       "5    6        40           5        35              298\n",
       "6    7        16           3        13              311"
      ]
     },
     "execution_count": 50,
     "metadata": {},
     "output_type": "execute_result"
    }
   ],
   "source": [
    "user_df['net_user_cumsum'] = user_df['net_user'].cumsum()\n",
    "user_df"
   ]
  },
  {
   "cell_type": "code",
   "execution_count": 53,
   "id": "041cade5-0f69-4ed9-ad02-b8093c9f7916",
   "metadata": {},
   "outputs": [
    {
     "data": {
      "text/plain": [
       "<Axes: xlabel='day'>"
      ]
     },
     "execution_count": 53,
     "metadata": {},
     "output_type": "execute_result"
    },
    {
     "data": {
      "image/png": "[encoded data removed]",
      "text/plain": [
       "<Figure size 640x480 with 1 Axes>"
      ]
     },
     "metadata": {},
     "output_type": "display_data"
    }
   ],
   "source": [
    "user_df.plot(x='day', y='net_user_cumsum', kind='bar')"
   ]
  },
  {
   "cell_type": "code",
   "execution_count": null,
   "id": "f2916363",
   "metadata": {},
   "outputs": [],
   "source": []
  }
 ],
 "metadata": {
  "kernelspec": {
   "display_name": "base",
   "language": "python",
   "name": "python3"
  },
  "language_info": {
   "codemirror_mode": {
    "name": "ipython",
    "version": 3
   },
   "file_extension": ".py",
   "mimetype": "text/x-python",
   "name": "python",
   "nbconvert_exporter": "python",
   "pygments_lexer": "ipython3",
   "version": "3.12.4"
  }
 },
 "nbformat": 4,
 "nbformat_minor": 5
}
